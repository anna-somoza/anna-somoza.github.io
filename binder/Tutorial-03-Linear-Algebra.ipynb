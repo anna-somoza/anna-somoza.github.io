{
 "cells": [
  {
   "cell_type": "code",
   "execution_count": 0,
   "metadata": {
    "collapsed": false
   },
   "outputs": [
   ],
   "source": [
   ]
  },
  {
   "cell_type": "markdown",
   "metadata": {
    "collapsed": false
   },
   "source": [
    "%html\n",
    "<h1>Linear Algebra</h1>\n",
    "<h2>Vectors<br /></h2>\n",
    "<p>To create a vector in Sage, use the <strong>vector</strong> command.</p>\n",
    "<p><strong>Exercise:</strong> Create the vector $x = (1, 2, \\ldots, 100)$.</p>"
   ]
  },
  {
   "cell_type": "code",
   "execution_count": 0,
   "metadata": {
    "collapsed": false
   },
   "outputs": [
   ],
   "source": [
   ]
  },
  {
   "cell_type": "markdown",
   "metadata": {
    "collapsed": false
   },
   "source": [
    "%html\n",
    "<p>\n",
    "<table border=\"2\" align=\"center\">\n",
    "<tbody>\n",
    "<tr>\n",
    "<td style=\"text-align: center;\"><span style=\"font-size: large;\"><span style=\"color: #ff0000;\"><strong>Note: vectors in Sage are <em>row</em> vectors!</strong></span></span></td>\n",
    "</tr>\n",
    "</tbody>\n",
    "</table>\n",
    "</p>\n",
    "<p><strong>Exercise: </strong>Create the vector $y = (1^2, 2^2, \\ldots, 100^2)$.</p>"
   ]
  },
  {
   "cell_type": "code",
   "execution_count": 0,
   "metadata": {
    "collapsed": false
   },
   "outputs": [
   ],
   "source": [
   ]
  },
  {
   "cell_type": "code",
   "execution_count": 0,
   "metadata": {
    "collapsed": false
   },
   "outputs": [
   ],
   "source": [
    "%html\n",
    "<p><strong>Exercise: </strong>Type <strong>x.</strong> and hit tab to see the available methods for vectors. Find the <em>norm</em> (length) of the vectors <strong>x</strong> and <strong>y</strong>.</p>"
   ]
  },
  {
   "cell_type": "code",
   "execution_count": 0,
   "metadata": {
    "collapsed": false
   },
   "outputs": [
   ],
   "source": [
   ]
  },
  {
   "cell_type": "markdown",
   "metadata": {
    "collapsed": false
   },
   "source": [
    "%html\n",
    "<p><strong>Exercise: </strong>Find the <em>dot product</em> of <strong>x</strong> and <strong>y</strong>.</p>"
   ]
  },
  {
   "cell_type": "code",
   "execution_count": 0,
   "metadata": {
    "collapsed": false
   },
   "outputs": [
   ],
   "source": [
   ]
  },
  {
   "cell_type": "markdown",
   "metadata": {
    "collapsed": false
   },
   "source": [
    "%html\n",
    "<p style=\"text-align: right;\"><span style=\"font-size: small;\">[The above problems are essentially the first problem on Exercise Set 1 of <a href=\"http://modular.math.washington.edu/\">William Stein's</a> <a href=\"http://wiki.wstein.org/09/480b\">Math 480b</a>.]</span></p>\n",
    "<h2>Matrices</h2>\n",
    "<p><strong>Exercise:</strong> Use the <strong>matrix</strong> command to create the following matrix over the rational numbers (hint: in Sage, <strong>QQ</strong> denotes the field of rational numbers).</p>\n",
    "<p>$$\\left(\\begin{array}{rrrrrr}<br />3 &amp; 2 &amp; 2 &amp; 1 &amp; 1 &amp; 0 \\\\<br />2 &amp; 3 &amp; 1 &amp; 0 &amp; 2 &amp; 1 \\\\<br />2 &amp; 1 &amp; 3 &amp; 2 &amp; 0 &amp; 1 \\\\<br />1 &amp; 0 &amp; 2 &amp; 3 &amp; 1 &amp; 2 \\\\<br />1 &amp; 2 &amp; 0 &amp; 1 &amp; 3 &amp; 2 \\\\<br />0 &amp; 1 &amp; 1 &amp; 2 &amp; 2 &amp; 3<br />\\end{array}\\right)$$</p>\n",
    "<ol>\n",
    "<li>Find the <em>echelon form</em> of the above matrix.</li>\n",
    "<li>Find the <em>right kernel</em> of the matrix.</li>\n",
    "<li>Find the <em>eigenvalues</em> of the matrix.</li>\n",
    "<li>Find the <em>left eigenvectors</em> of the matrix.</li>\n",
    "<li>Find the <em>right eigenspaces</em> of the matrix.</li>\n",
    "</ol>"
   ]
  },
  {
   "cell_type": "code",
   "execution_count": 0,
   "metadata": {
    "collapsed": false
   },
   "outputs": [
   ],
   "source": [
   ]
  },
  {
   "cell_type": "markdown",
   "metadata": {
    "collapsed": false
   },
   "source": [
    "%html\n",
    "<p><strong>Exercise: </strong>For what values of $k$ is the <em>determinant</em> of the following matrix $0$?</p>\n",
    "<p>$$\\left(\\begin{array}{rrr}<br />1 &amp; 1 &amp; -1 \\\\<br />2 &amp; 3 &amp; k \\\\<br />1 &amp; k &amp; 3<br />\\end{array}\\right)$$</p>\n",
    "<p style=\"text-align: right;\"><span style=\"font-size: small;\">[K. R. Matthews, <a href=\"http://www.numbertheory.org/book/\">Elementary Linear Algebra</a>, Chapter 4, Problem 8]</span></p>"
   ]
  },
  {
   "cell_type": "code",
   "execution_count": 0,
   "metadata": {
    "collapsed": false
   },
   "outputs": [
   ],
   "source": [
   ]
  },
  {
   "cell_type": "markdown",
   "metadata": {
    "collapsed": false
   },
   "source": [
    "%html\n",
    "<p><strong>Exercise: </strong>Prove that the determinant of the following matrix is $-8$.</p>\n",
    "<p>$$\\left(\\begin{array}{rrr}<br />{n}^{2}  &amp; {\\left( n + 1 \\right)}^{2}  &amp; {\\left( n + 2<br />\\right)}^{2}  \\\\<br />{\\left( n + 1 \\right)}^{2}  &amp; {\\left( n + 2 \\right)}^{2}  &amp;<br />{\\left( n + 3 \\right)}^{2}  \\\\<br />{\\left( n + 2 \\right)}^{2}  &amp; {\\left( n + 3 \\right)}^{2}  &amp; {\\left( n + 4 \\right)}^{2}\\end{array}\\right)$$</p>\n",
    "<p style=\"text-align: right;\"><span style=\"font-size: small;\">[K. R. Matthews, <a href=\"http://www.numbertheory.org/book/\"><em>Elementary Linear Algebra</em></a>, Chapter 4, Problem 3] </span></p>"
   ]
  },
  {
   "cell_type": "code",
   "execution_count": 0,
   "metadata": {
    "collapsed": false
   },
   "outputs": [
   ],
   "source": [
   ]
  },
  {
   "cell_type": "markdown",
   "metadata": {
    "collapsed": false
   },
   "source": [
    "%html\n",
    "<p><strong>Exercise: </strong>Prove that if $a \\neq c$, then the line through the points $(a,b)$ and $(c,d)$ is given by the following equation.<br /><br />$$\\det\\left(\\begin{array}{rrr}<br />x &amp; y &amp; 1 \\\\<br />a &amp; b &amp; 1 \\\\<br />c &amp; d &amp; 1<br />\\end{array}\\right) = 0.$$</p>"
   ]
  },
  {
   "cell_type": "code",
   "execution_count": 0,
   "metadata": {
    "collapsed": false
   },
   "outputs": [
   ],
   "source": [
   ]
  },
  {
   "cell_type": "markdown",
   "metadata": {
    "collapsed": false
   },
   "source": [
    "%html\n",
    "<p><strong>Exercise: </strong>Find the determinant of the following matrices.</p>\n",
    "$$\\left(\\begin{array}{r}<br />1<br />\\end{array}\\right),<br />\\left(\\begin{array}{rr}<br />1 &amp; 1 \\\\<br />r &amp; 1<br />\\end{array}\\right),<br />\\left(\\begin{array}{rrr}<br />1 &amp; 1 &amp; 1 \\\\<br />r &amp; 1 &amp; 1 \\\\<br />r &amp; r &amp; 1<br />\\end{array}\\right),<br />\\left(\\begin{array}{rrrr}<br />1 &amp; 1 &amp; 1 &amp; 1 \\\\<br />r &amp; 1 &amp; 1 &amp; 1 \\\\<br />r &amp; r &amp; 1 &amp; 1 \\\\<br />r &amp; r &amp; r &amp; 1<br />\\end{array}\\right),<br />\\left(\\begin{array}{rrrrr}<br />1 &amp; 1 &amp; 1 &amp; 1 &amp; 1 \\\\<br />r &amp; 1 &amp; 1 &amp; 1 &amp; 1 \\\\<br />r &amp; r &amp; 1 &amp; 1 &amp; 1 \\\\<br />r &amp; r &amp; r &amp; 1 &amp; 1 \\\\<br />r &amp; r &amp; r &amp; r &amp; 1<br />\\end{array}\\right)$$\n",
    "<p>Make a conjecture about the determinant of an arbitrary matrix in this sequence. Can you prove it your conjecture?</p>\n",
    "<p style=\"text-align: right;\"><span style=\"font-size: small;\">[Adapted from: K. R. Matthews, <a href=\"http://www.numbertheory.org/book/\"><em>Elementary Linear Algebra</em></a>, Chapter 4, Problem 19] </span></p>"
   ]
  },
  {
   "cell_type": "code",
   "execution_count": 0,
   "metadata": {
    "collapsed": false
   },
   "outputs": [
   ],
   "source": [
   ]
  },
  {
   "cell_type": "markdown",
   "metadata": {
    "collapsed": false
   },
   "source": [
    "%html\n",
    "<p><strong>Exercise: </strong>What is the largest determinant possible for a $3\\times3$ matrix whose entries are $1, 2, \\dots, 9$ (each occurring exactly once, in any order). How many matrices $M$ achieve this maximum?</p>\n",
    "<p>(<em>Hint:</em> You might find the command <strong>Permutations</strong> useful. The following code will construct all the lists that have the entries $1, 2, 3, 4$, each appearing exactly once.)</p>\n",
    "<pre>for P in Permutations(4):<br />    L = list(P)<br />    print L<br /></pre>"
   ]
  },
  {
   "cell_type": "code",
   "execution_count": 0,
   "metadata": {
    "collapsed": false
   },
   "outputs": [
   ],
   "source": [
    "for P in Permutations(4):\n",
    "    L = list(P)\n",
    "    print L"
   ]
  }
 ],
 "metadata": {
  "kernelspec": {
   "display_name": "SageMath (stable)",
   "language": "sagemath",
   "metadata": {
    "cocalc": {
     "description": "Open-source mathematical software system",
     "priority": 10,
     "url": "https://www.sagemath.org/"
    }
   },
   "name": "sagemath"
  },
  "language_info": {
   "codemirror_mode": {
    "name": "ipython",
    "version": 2
   },
   "file_extension": ".py",
   "mimetype": "text/x-python",
   "name": "python",
   "nbconvert_exporter": "python",
   "pygments_lexer": "ipython2",
   "version": "2.7.15"
  }
 },
 "nbformat": 4,
 "nbformat_minor": 0
}
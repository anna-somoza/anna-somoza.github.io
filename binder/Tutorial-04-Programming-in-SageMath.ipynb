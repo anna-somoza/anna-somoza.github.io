{
 "cells": [
  {
   "cell_type": "markdown",
   "metadata": {
    "collapsed": false
   },
   "source": [
    "%html\n",
    "<!-- escape-backslashes -->\n",
    "<h1>Tutorial: Programming in Python and Sage</h1>\n",
    "<p class=\"system-message-title\"><em>Authors:</em> Florent Hivert &lt;florent.hivert@univ-rouen.fr&gt;, Franco Saliola &lt;saliola@gmail.com&gt;, et al.</p>\n",
    "\n",
    "<p>\n",
    "    This tutorial explores the different data structures in Python (and Sage) as well as control structures and Python functions.\n",
    "</p>\n",
    "<p>\n",
    "    The exercises below are extracted from the Sage Thematic Tutorial on\n",
    "    <a href=\"http://doc.sagemath.org/html/en/thematic_tutorials/tutorial-programming-python.html\">\n",
    "        Programming in Python and Sage.\n",
    "    </a>\n",
    "</p>\n",
    "<p>\n",
    "    The thematic tutorial also contains detailed information on the\n",
    "    <a href=\"http://doc.sagemath.org/html/en/thematic_tutorials/tutorial-programming-python.html#data-structures\">data structures</a>,\n",
    "    <a href=\"http://doc.sagemath.org/html/en/thematic_tutorials/tutorial-programming-python.html#control-structures\">control structures</a> and\n",
    "    <a href=\"http://doc.sagemath.org/html/en/thematic_tutorials/tutorial-programming-python.html#functions\">functions</a>.\n",
    "</p>"
   ]
  },
  {
   "cell_type": "code",
   "execution_count": 0,
   "metadata": {
    "collapsed": false
   },
   "outputs": [
   ],
   "source": [
   ]
  },
  {
   "cell_type": "markdown",
   "metadata": {
    "collapsed": false
   },
   "source": [
    "%html\n",
    "<h2>Lists</h2>\n",
    "<h3>Creating Lists I: [Square brackets]</h3>\n",
    "<p><strong>Example:</strong></p>"
   ]
  },
  {
   "cell_type": "code",
   "execution_count": 0,
   "metadata": {
    "collapsed": false
   },
   "outputs": [
   ],
   "source": [
    "L = [3, Permutation([5,1,4,2,3]), 17, 17, 3, 51]\n",
    "L"
   ]
  },
  {
   "cell_type": "markdown",
   "metadata": {
    "collapsed": false
   },
   "source": [
    "%html\n",
    "<p><strong>Exercise:</strong> Create the list [63, 12, -10, \"a\", 12],&nbsp;assign it to the variable <tt class=\"docutils literal\">L</tt>, and print the list.</p>"
   ]
  },
  {
   "cell_type": "code",
   "execution_count": 0,
   "metadata": {
    "collapsed": false
   },
   "outputs": [
   ],
   "source": [
   ]
  },
  {
   "cell_type": "markdown",
   "metadata": {
    "collapsed": false
   },
   "source": [
    "%html\n",
    "<p><strong>Exercise:</strong> Create the empty list (you will often need to do this).</p>"
   ]
  },
  {
   "cell_type": "code",
   "execution_count": 0,
   "metadata": {
    "collapsed": false
   },
   "outputs": [
   ],
   "source": [
   ]
  },
  {
   "cell_type": "markdown",
   "metadata": {
    "collapsed": false
   },
   "source": [
    "%html\n",
    "<h3>Creating Lists II: range</h3>\n",
    "<p>The <em>range</em> function provides an easy way to construct a list of\n",
    "integers. Here is the documentation of the <em>range</em> function:</p>"
   ]
  },
  {
   "cell_type": "code",
   "execution_count": 0,
   "metadata": {
    "collapsed": false
   },
   "outputs": [
   ],
   "source": [
    "range?"
   ]
  },
  {
   "cell_type": "markdown",
   "metadata": {
    "collapsed": false
   },
   "source": [
    "%html\n",
    "<p><strong>Exercise:</strong> Use <em>range</em> to construct the list $[1,2,\\ldots,50]$.</p>"
   ]
  },
  {
   "cell_type": "code",
   "execution_count": 0,
   "metadata": {
    "collapsed": false
   },
   "outputs": [
   ],
   "source": [
   ]
  },
  {
   "cell_type": "code",
   "execution_count": 0,
   "metadata": {
    "collapsed": false
   },
   "outputs": [
   ],
   "source": [
   ]
  },
  {
   "cell_type": "markdown",
   "metadata": {
    "collapsed": false
   },
   "source": [
    "%html\n",
    "<p><strong>Exercise:</strong> Use <em>range</em> to construct the list of <em>even</em> numbers\n",
    "between 1 and 100 (including 100).</p>"
   ]
  },
  {
   "cell_type": "code",
   "execution_count": 0,
   "metadata": {
    "collapsed": false
   },
   "outputs": [
   ],
   "source": [
   ]
  },
  {
   "cell_type": "code",
   "execution_count": 0,
   "metadata": {
    "collapsed": false
   },
   "outputs": [
   ],
   "source": [
    "%html\n",
    "<p><strong>Exercise:</strong> The <em>step</em> argument for the <em>range</em> command can be negative. Use\n",
    "<em>range</em> to construct the list $[10, 7, 4, 1, -2]$.</p>"
   ]
  },
  {
   "cell_type": "code",
   "execution_count": 0,
   "metadata": {
    "collapsed": false
   },
   "outputs": [
   ],
   "source": [
   ]
  },
  {
   "cell_type": "code",
   "execution_count": 0,
   "metadata": {
    "collapsed": false
   },
   "outputs": [
   ],
   "source": [
    "%html\n",
    "<h3>Creating Lists III: list comprehensions</h3>\n",
    "<p><em>List comprehensions</em> provide a concise way to create lists from other lists\n",
    "(or other data types).</p>\n",
    "<p><strong>Example</strong> We already know how to create the list $[1, 2, \\dots, 16]$:</p>"
   ]
  },
  {
   "cell_type": "code",
   "execution_count": 0,
   "metadata": {
    "collapsed": false
   },
   "outputs": [
   ],
   "source": [
    "range(1,17)"
   ]
  },
  {
   "cell_type": "markdown",
   "metadata": {
    "collapsed": false
   },
   "source": [
    "%html\n",
    "<p>Using a <em>list comprehension</em>, we can now create the list\n",
    "$[1^2, 2^2, 3^2, \\dots, 16^2]$ as follows:</p>"
   ]
  },
  {
   "cell_type": "code",
   "execution_count": 0,
   "metadata": {
    "collapsed": false
   },
   "outputs": [
   ],
   "source": [
    "[i^2 for i in range(1,17)]"
   ]
  },
  {
   "cell_type": "code",
   "execution_count": 0,
   "metadata": {
    "collapsed": false
   },
   "outputs": [
   ],
   "source": [
    "sum([i^2 for i in range(1,17)])"
   ]
  },
  {
   "cell_type": "markdown",
   "metadata": {
    "collapsed": false
   },
   "source": [
    "%html\n",
    "<p><strong>Exercise:</strong> [<a class=\"reference external\" href=\"http://projecteuler.net/index.php?section=problems&amp;id=6\">Project Euler, Problem 6</a>]</p>\n",
    "<p>The sum of the squares of the first ten natural numbers is\n",
    "$$(1^2 + 2^2 + \\cdots + 10^2) = 385.$$\n",
    "The square of the sum of the first ten natural numbers is\n",
    "$$(1 + 2 + \\cdots + 10)^2 = 55^2 = 3025.$$\n",
    "Hence the difference between the sum of the squares of the first ten natural numbers and the square of the sum is\n",
    "$$3025 - 385 = 2640.$$</p>\n",
    "<p>Find the difference between the sum of the squares of the first one hundred natural numbers and the square of the sum.</p>"
   ]
  },
  {
   "cell_type": "code",
   "execution_count": 0,
   "metadata": {
    "collapsed": false
   },
   "outputs": [
   ],
   "source": [
   ]
  },
  {
   "cell_type": "code",
   "execution_count": 0,
   "metadata": {
    "collapsed": false
   },
   "outputs": [
   ],
   "source": [
   ]
  },
  {
   "cell_type": "code",
   "execution_count": 0,
   "metadata": {
    "collapsed": false
   },
   "outputs": [
   ],
   "source": [
   ]
  },
  {
   "cell_type": "markdown",
   "metadata": {
    "collapsed": false
   },
   "source": [
    "%html\n",
    "<h4>Filtering lists with a list comprehension</h4>\n",
    "<p>A list can be <em>filtered</em> using a list comprehension.</p>\n",
    "<p><strong>Example:</strong> To create a list of the squares of the prime numbers between 1\n",
    "and 100, we use a list comprehension as follows.</p>"
   ]
  },
  {
   "cell_type": "code",
   "execution_count": 0,
   "metadata": {
    "collapsed": false
   },
   "outputs": [
   ],
   "source": [
    "[p^2 for p in [1,2,..,100] if is_prime(p)]"
   ]
  },
  {
   "cell_type": "markdown",
   "metadata": {
    "collapsed": false
   },
   "source": [
    "%html\n",
    "<p><strong>Exercise:</strong> Use a <em>list comprehension</em> to list all the natural numbers below\n",
    "20 that are multiples of 3 or 5. Hint:</p>\n",
    "<ul class=\"simple\">\n",
    "<li>To get the remainder of 7 divided by 3 use <em>7%3</em>.</li>\n",
    "<li>To test for equality use two equal signs (<em>==</em>); for example, <em>3 == 7</em>.</li>\n",
    "</ul>"
   ]
  },
  {
   "cell_type": "code",
   "execution_count": 0,
   "metadata": {
    "collapsed": false
   },
   "outputs": [
   ],
   "source": [
   ]
  },
  {
   "cell_type": "markdown",
   "metadata": {
    "collapsed": false
   },
   "source": [
    "%html\n",
    "<p><a class=\"reference external\" href=\"http://projecteuler.net/index.php?section=problems&id=1\">Project Euler, Problem 1</a>:\n",
    "Find the sum of all the multiples of 3 or 5 below 1000.</p>"
   ]
  },
  {
   "cell_type": "code",
   "execution_count": 0,
   "metadata": {
    "collapsed": false
   },
   "outputs": [
   ],
   "source": [
   ]
  },
  {
   "cell_type": "markdown",
   "metadata": {
    "collapsed": false
   },
   "source": [
    "%html\n",
    "<h3>Fizz Buzz</h3>\n",
    "\n",
    "<p>\n",
    "    Écrire une fonction qui affiche les nombres de 1 à 100 de sorte que la fonction affiche \"Fizz\" au lieu d'afficher les multiples de 3 et \"Buzz\" au lieu des multiples de 5. Pour les multiples de 3 et 5, afficher \"FizzBuzz\".\n",
    "</p>\n",
    "\n",
    "<p>\n",
    "    Write a program that prints the numbers from 1 to 100. But for multiples of three print \"Fizz\" instead of the number and for the multiples of five print \"Buzz\". For numbers which are multiples of both three and five print \"FizzBuzz\".\n",
    "</p>"
   ]
  },
  {
   "cell_type": "code",
   "execution_count": 0,
   "metadata": {
    "collapsed": false
   },
   "outputs": [
   ],
   "source": [
   ]
  },
  {
   "cell_type": "code",
   "execution_count": 0,
   "metadata": {
    "collapsed": false
   },
   "outputs": [
   ],
   "source": [
   ]
  },
  {
   "cell_type": "code",
   "execution_count": 0,
   "metadata": {
    "collapsed": false
   },
   "outputs": [
   ],
   "source": [
   ]
  },
  {
   "cell_type": "code",
   "execution_count": 0,
   "metadata": {
    "collapsed": false
   },
   "outputs": [
   ],
   "source": [
   ]
  },
  {
   "cell_type": "markdown",
   "metadata": {
    "collapsed": false
   },
   "source": [
    "%html\n",
    "<h4>Nested list comprehensions</h4>\n",
    "<p>List comprehensions can be nested!</p>\n",
    "<p><strong>Examples:</strong></p>"
   ]
  },
  {
   "cell_type": "code",
   "execution_count": 0,
   "metadata": {
    "collapsed": false
   },
   "outputs": [
   ],
   "source": [
    "[(x,y) for x in range(5) for y in range(3)]"
   ]
  },
  {
   "cell_type": "code",
   "execution_count": 0,
   "metadata": {
    "collapsed": false
   },
   "outputs": [
   ],
   "source": [
    "[[i^j for j in range(1,4)] for i in range(6)]"
   ]
  },
  {
   "cell_type": "code",
   "execution_count": 0,
   "metadata": {
    "collapsed": false
   },
   "outputs": [
   ],
   "source": [
    "matrix([[i^j for j in range(1,4)] for i in range(6)])"
   ]
  },
  {
   "cell_type": "markdown",
   "metadata": {
    "collapsed": false
   },
   "source": [
    "%html\n",
    "<p><strong>Exercise:</strong></p>\n",
    "<p>A <em>Pythagorean triple</em> is a triple $(x,y,z)$ of <em>positive</em> integers satisfying $x^2+y^2=z^2$. The Pythagorean triples whose components are at most $10$ are:</p>\n",
    "$$ [(3, 4, 5), (4, 3, 5), (6, 8, 10), (8, 6, 10)] $$\n",
    "<p>Using a filtered list comprehension, construct the list of Pythagorean triples whose components are at most $50$.</p>"
   ]
  },
  {
   "cell_type": "code",
   "execution_count": 0,
   "metadata": {
    "collapsed": false
   },
   "outputs": [
   ],
   "source": [
   ]
  },
  {
   "cell_type": "code",
   "execution_count": 0,
   "metadata": {
    "collapsed": false
   },
   "outputs": [
   ],
   "source": [
   ]
  },
  {
   "cell_type": "markdown",
   "metadata": {
    "collapsed": false
   },
   "source": [
    "%html\n",
    "<p><a class=\"reference external\" href=\"http://projecteuler.net/index.php?section=problems&id=9\">Project Euler, Problem 9</a>:\n",
    "There exists exactly one Pythagorean triplet for which $a + b + c = 1000$.\n",
    "Find the product $abc$.</p>"
   ]
  },
  {
   "cell_type": "code",
   "execution_count": 0,
   "metadata": {
    "collapsed": false
   },
   "outputs": [
   ],
   "source": [
   ]
  },
  {
   "cell_type": "markdown",
   "metadata": {
    "collapsed": false
   },
   "source": [
    "%html\n",
    "<h3>Accessing individual elements of lists</h3>\n",
    "<p>To access an element of the list, use the syntax <tt class=\"docutils literal\">L[i]</tt>, where $i$ is the\n",
    "index of the item.</p>\n",
    "<p><strong>Exercise:</strong></p>\n",
    "<ol class=\"arabic\">\n",
    "<li><p class=\"first\">Construct the list <tt class=\"docutils literal\">L = [1,2,3,4,3,5,6]</tt>. What is <tt class=\"docutils literal\">L[3]</tt>?</p>"
   ]
  },
  {
   "cell_type": "code",
   "execution_count": 0,
   "metadata": {
    "collapsed": false
   },
   "outputs": [
   ],
   "source": [
   ]
  },
  {
   "cell_type": "markdown",
   "metadata": {
    "collapsed": false
   },
   "source": [
    "%html\n",
    "</li>\n",
    "<li><p class=\"first\">What is <tt class=\"docutils literal\">L[1]</tt>?</p>"
   ]
  },
  {
   "cell_type": "code",
   "execution_count": 0,
   "metadata": {
    "collapsed": false
   },
   "outputs": [
   ],
   "source": [
   ]
  },
  {
   "cell_type": "markdown",
   "metadata": {
    "collapsed": false
   },
   "source": [
    "%html\n",
    "</li>\n",
    "<li><p class=\"first\">What is the index of the first element of <tt class=\"docutils literal\">L</tt>?</p>"
   ]
  },
  {
   "cell_type": "code",
   "execution_count": 0,
   "metadata": {
    "collapsed": false
   },
   "outputs": [
   ],
   "source": [
   ]
  },
  {
   "cell_type": "markdown",
   "metadata": {
    "collapsed": false
   },
   "source": [
    "%html\n",
    "</li>\n",
    "<li><p class=\"first\">What is <tt class=\"docutils literal\"><span class=\"pre\">L[-1]</span></tt>? What is <tt class=\"docutils literal\"><span class=\"pre\">L[-2]</span></tt>?</p>"
   ]
  },
  {
   "cell_type": "code",
   "execution_count": 0,
   "metadata": {
    "collapsed": false
   },
   "outputs": [
   ],
   "source": [
   ]
  },
  {
   "cell_type": "markdown",
   "metadata": {
    "collapsed": false
   },
   "source": [
    "%html\n",
    "</li>\n",
    "<li><p class=\"first\">What is <tt class=\"docutils literal\">L.index(2)</tt>? What is <tt class=\"docutils literal\">L.index(3)</tt>?</p>"
   ]
  },
  {
   "cell_type": "code",
   "execution_count": 0,
   "metadata": {
    "collapsed": false
   },
   "outputs": [
   ],
   "source": [
   ]
  },
  {
   "cell_type": "markdown",
   "metadata": {
    "collapsed": false
   },
   "source": [
    "%html\n",
    "</li>\n",
    "</ol>\n",
    "\n",
    "\n",
    "<h3>Modifying lists: changing an element in a list</h3>\n",
    "<p>To change the item in position <tt class=\"docutils literal\">i</tt> of a list <tt class=\"docutils literal\">L</tt>:</p>"
   ]
  },
  {
   "cell_type": "code",
   "execution_count": 0,
   "metadata": {
    "collapsed": false
   },
   "outputs": [
   ],
   "source": [
    "L = [\"a\", 4, 1, 8]\n",
    "print L"
   ]
  },
  {
   "cell_type": "markdown",
   "metadata": {
    "collapsed": false
   },
   "source": [
    "%html\n",
    "<!-- link -->"
   ]
  },
  {
   "cell_type": "code",
   "execution_count": 0,
   "metadata": {
    "collapsed": false
   },
   "outputs": [
   ],
   "source": [
   ]
  },
  {
   "cell_type": "code",
   "execution_count": 0,
   "metadata": {
    "collapsed": false
   },
   "outputs": [
   ],
   "source": [
    "L[2] = 0"
   ]
  },
  {
   "cell_type": "code",
   "execution_count": 0,
   "metadata": {
    "collapsed": false
   },
   "outputs": [
   ],
   "source": [
    "print L"
   ]
  },
  {
   "cell_type": "markdown",
   "metadata": {
    "collapsed": false
   },
   "source": [
    "%html\n",
    "<h3>Modifying lists: append and extend</h3>\n",
    "<p>To <em>append</em> an object to a list:</p>"
   ]
  },
  {
   "cell_type": "code",
   "execution_count": 0,
   "metadata": {
    "collapsed": false
   },
   "outputs": [
   ],
   "source": [
    "L = [\"a\", 4, 1, 8]\n",
    "print L"
   ]
  },
  {
   "cell_type": "markdown",
   "metadata": {
    "collapsed": false
   },
   "source": [
    "%html\n",
    "<!-- link -->"
   ]
  },
  {
   "cell_type": "code",
   "execution_count": 0,
   "metadata": {
    "collapsed": false
   },
   "outputs": [
   ],
   "source": [
    "L.append(17)\n",
    "print L"
   ]
  },
  {
   "cell_type": "markdown",
   "metadata": {
    "collapsed": false
   },
   "source": [
    "%html\n",
    "<p>To <em>extend</em> a list by another list:</p>"
   ]
  },
  {
   "cell_type": "code",
   "execution_count": 0,
   "metadata": {
    "collapsed": false
   },
   "outputs": [
   ],
   "source": [
    "L1 = [1,2,3]\n",
    "L2 = [7,8,9,0]\n",
    "print L1"
   ]
  },
  {
   "cell_type": "code",
   "execution_count": 0,
   "metadata": {
    "collapsed": false
   },
   "outputs": [
   ],
   "source": [
    "print L2"
   ]
  },
  {
   "cell_type": "markdown",
   "metadata": {
    "collapsed": false
   },
   "source": [
    "%html\n",
    "<!-- link -->"
   ]
  },
  {
   "cell_type": "code",
   "execution_count": 0,
   "metadata": {
    "collapsed": false
   },
   "outputs": [
   ],
   "source": [
    "L1.extend(L2)\n",
    "print L1"
   ]
  },
  {
   "cell_type": "markdown",
   "metadata": {
    "collapsed": false
   },
   "source": [
    "%html\n",
    "<h3>Modifying lists: reverse, sort, ...</h3>"
   ]
  },
  {
   "cell_type": "code",
   "execution_count": 0,
   "metadata": {
    "collapsed": false
   },
   "outputs": [
   ],
   "source": [
    "L = [4,2,5,1,3]\n",
    "L"
   ]
  },
  {
   "cell_type": "markdown",
   "metadata": {
    "collapsed": false
   },
   "source": [
    "%html\n",
    "<!-- link -->"
   ]
  },
  {
   "cell_type": "code",
   "execution_count": 0,
   "metadata": {
    "collapsed": false
   },
   "outputs": [
   ],
   "source": [
    "L.reverse()\n",
    "L"
   ]
  },
  {
   "cell_type": "markdown",
   "metadata": {
    "collapsed": false
   },
   "source": [
    "%html\n",
    "<!-- link -->"
   ]
  },
  {
   "cell_type": "code",
   "execution_count": 0,
   "metadata": {
    "collapsed": false
   },
   "outputs": [
   ],
   "source": [
    "L.sort()\n",
    "L"
   ]
  },
  {
   "cell_type": "code",
   "execution_count": 0,
   "metadata": {
    "collapsed": false
   },
   "outputs": [
   ],
   "source": [
    "L = [3,1,6,4]\n",
    "sorted(L)"
   ]
  },
  {
   "cell_type": "markdown",
   "metadata": {
    "collapsed": false
   },
   "source": [
    "%html\n",
    "<!-- link -->"
   ]
  },
  {
   "cell_type": "code",
   "execution_count": 0,
   "metadata": {
    "collapsed": false
   },
   "outputs": [
   ],
   "source": [
    "L"
   ]
  },
  {
   "cell_type": "markdown",
   "metadata": {
    "collapsed": false
   },
   "source": [
    "%html\n",
    "<h3>Concatenating Lists</h3>\n",
    "<p>To concatenate two lists, add them with the operator <tt class=\"docutils literal\">+</tt>. This is not a commutative operation....</p>"
   ]
  },
  {
   "cell_type": "code",
   "execution_count": 0,
   "metadata": {
    "collapsed": false
   },
   "outputs": [
   ],
   "source": [
    "L1 = [1,2,3]\n",
    "L2 = [7,8,9,0]\n",
    "L1 + L2"
   ]
  },
  {
   "cell_type": "markdown",
   "metadata": {
    "collapsed": false
   },
   "source": [
    "%html\n",
    "<h3>Slicing Lists</h3>\n",
    "<p>You can slice a list using the syntax <tt class=\"docutils literal\">L[start : stop : step]</tt>. This will\n",
    "return a sublist of <tt class=\"docutils literal\">L</tt>.</p>\n",
    "<p><strong>Exercise:</strong> Below are some examples of slicing lists. Try to guess what the output will be before evaluating the cell.</p>"
   ]
  },
  {
   "cell_type": "code",
   "execution_count": 0,
   "metadata": {
    "collapsed": false
   },
   "outputs": [
   ],
   "source": [
    "L = range(20)\n",
    "L"
   ]
  },
  {
   "cell_type": "markdown",
   "metadata": {
    "collapsed": false
   },
   "source": [
    "%html\n",
    "<!-- link -->"
   ]
  },
  {
   "cell_type": "code",
   "execution_count": 0,
   "metadata": {
    "collapsed": false
   },
   "outputs": [
   ],
   "source": [
    "L[3:15]"
   ]
  },
  {
   "cell_type": "markdown",
   "metadata": {
    "collapsed": false
   },
   "source": [
    "%html\n",
    "<!-- link -->"
   ]
  },
  {
   "cell_type": "code",
   "execution_count": 0,
   "metadata": {
    "collapsed": false
   },
   "outputs": [
   ],
   "source": [
    "L[3:15:2]"
   ]
  },
  {
   "cell_type": "markdown",
   "metadata": {
    "collapsed": false
   },
   "source": [
    "%html\n",
    "<!-- link -->"
   ]
  },
  {
   "cell_type": "code",
   "execution_count": 0,
   "metadata": {
    "collapsed": false
   },
   "outputs": [
   ],
   "source": [
   ]
  },
  {
   "cell_type": "markdown",
   "metadata": {
    "collapsed": false
   },
   "source": [
    "%html\n",
    "<!-- link -->"
   ]
  },
  {
   "cell_type": "code",
   "execution_count": 0,
   "metadata": {
    "collapsed": false
   },
   "outputs": [
   ],
   "source": [
    "L[:4]"
   ]
  },
  {
   "cell_type": "markdown",
   "metadata": {
    "collapsed": false
   },
   "source": [
    "%html\n",
    "<!-- link -->"
   ]
  },
  {
   "cell_type": "code",
   "execution_count": 0,
   "metadata": {
    "collapsed": false
   },
   "outputs": [
   ],
   "source": [
    "L[:]"
   ]
  },
  {
   "cell_type": "markdown",
   "metadata": {
    "collapsed": false
   },
   "source": [
    "%html\n",
    "<!-- link -->"
   ]
  },
  {
   "cell_type": "code",
   "execution_count": 0,
   "metadata": {
    "collapsed": false
   },
   "outputs": [
   ],
   "source": [
    "L[::-1]"
   ]
  },
  {
   "cell_type": "markdown",
   "metadata": {
    "collapsed": false
   },
   "source": [
    "%html\n",
    "<p><strong>Advanced exercise:</strong> The following function combines a loop with the some of\n",
    "the list operations above. What does the function do?</p>"
   ]
  },
  {
   "cell_type": "code",
   "execution_count": 0,
   "metadata": {
    "collapsed": false
   },
   "outputs": [
   ],
   "source": [
    "def f(number_of_iterations):\n",
    "       L = [1]\n",
    "       for n in range(2, number_of_iterations):\n",
    "           L = [sum(L[:i]) for i in range(n-1, -1, -1)]\n",
    "       return numerical_approx(2*L[0]*len(L)/sum(L), digits=50)"
   ]
  },
  {
   "cell_type": "markdown",
   "metadata": {
    "collapsed": false
   },
   "source": [
    "%html\n",
    "<!-- link -->\n",
    "<!-- :: -->\n",
    "<!-- sage: f(10) -->\n",
    "<!-- 3.1413810483870967741935483870967741935483870967742 -->"
   ]
  },
  {
   "cell_type": "code",
   "execution_count": 0,
   "metadata": {
    "collapsed": false
   },
   "outputs": [
   ],
   "source": [
   ]
  },
  {
   "cell_type": "markdown",
   "metadata": {
    "collapsed": false
   },
   "source": [
    "%html\n",
    "<h2>Tuples</h2>\n",
    "<p>A <em>tuple</em> is an <em>immutable</em> list. That is, it cannot be changed once it is\n",
    "created. To create a tuple, use parentheses instead of brackets:</p>"
   ]
  },
  {
   "cell_type": "code",
   "execution_count": 0,
   "metadata": {
    "collapsed": false
   },
   "outputs": [
   ],
   "source": [
    "t = (3, 5, [3,1], (17,[2,3],17), 4)\n",
    "t"
   ]
  },
  {
   "cell_type": "markdown",
   "metadata": {
    "collapsed": false
   },
   "source": [
    "%html\n",
    "<p>We can create a tuple from a list, or vice-versa.</p>\n",
    "<!-- link -->"
   ]
  },
  {
   "cell_type": "code",
   "execution_count": 0,
   "metadata": {
    "collapsed": false
   },
   "outputs": [
   ],
   "source": [
    "tuple(range(5))"
   ]
  },
  {
   "cell_type": "markdown",
   "metadata": {
    "collapsed": false
   },
   "source": [
    "%html\n",
    "<!-- link -->"
   ]
  },
  {
   "cell_type": "code",
   "execution_count": 0,
   "metadata": {
    "collapsed": false
   },
   "outputs": [
   ],
   "source": [
    "list(t)"
   ]
  },
  {
   "cell_type": "markdown",
   "metadata": {
    "collapsed": false
   },
   "source": [
    "%html\n",
    "<p>Tuples behave like lists in many respects:</p>\n",
    "<table border=\"1\" class=\"docutils\">\n",
    "<colgroup>\n",
    "<col width=\"30%\">\n",
    "<col width=\"35%\">\n",
    "<col width=\"35%\">\n",
    "</colgroup>\n",
    "<thead valign=\"bottom\">\n",
    "<tr><th class=\"head\">Operation</th>\n",
    "<th class=\"head\">Syntax for lists</th>\n",
    "<th class=\"head\">Syntax for tuples</th>\n",
    "</tr>\n",
    "</thead>\n",
    "<tbody valign=\"top\">\n",
    "<tr><td>Accessing a letter</td>\n",
    "<td><tt class=\"docutils literal\">list[3]</tt></td>\n",
    "<td><tt class=\"docutils literal\">tuple[3]</tt></td>\n",
    "</tr>\n",
    "<tr><td>Concatenation</td>\n",
    "<td><tt class=\"docutils literal\">list1 + list2</tt></td>\n",
    "<td><tt class=\"docutils literal\">tuple1 + tuple2</tt></td>\n",
    "</tr>\n",
    "<tr><td>Slicing</td>\n",
    "<td><tt class=\"docutils literal\">list[3:17:2]</tt></td>\n",
    "<td><tt class=\"docutils literal\">tuple[3:17:2]</tt></td>\n",
    "</tr>\n",
    "<tr><td>A reversed copy</td>\n",
    "<td><tt class=\"docutils literal\"><span class=\"pre\">list[::-1]</span></tt></td>\n",
    "<td><tt class=\"docutils literal\"><span class=\"pre\">tuple[::-1]</span></tt></td>\n",
    "</tr>\n",
    "<tr><td>Length</td>\n",
    "<td><tt class=\"docutils literal\">len(list)</tt></td>\n",
    "<td><tt class=\"docutils literal\">len(tuple)</tt></td>\n",
    "</tr>\n",
    "</tbody>\n",
    "</table>\n",
    "<p>Trying to modify a tuple will fail.</p>"
   ]
  },
  {
   "cell_type": "code",
   "execution_count": 0,
   "metadata": {
    "collapsed": false
   },
   "outputs": [
   ],
   "source": [
    "t = (5, 'a', 6/5)\n",
    "t"
   ]
  },
  {
   "cell_type": "code",
   "execution_count": 0,
   "metadata": {
    "collapsed": false
   },
   "outputs": [
   ],
   "source": [
    "t[1] = 'b'"
   ]
  },
  {
   "cell_type": "markdown",
   "metadata": {
    "collapsed": false
   },
   "source": [
    "%html\n",
    "<h2>Dictionaries</h2>\n",
    "<p>A <em>dictionary</em> is another built-in data type. Unlike lists, which are indexed\n",
    "by a range of numbers, dictionaries are indexed by <em>keys</em>, which can be any\n",
    "immutable object. Strings and numbers can always be keys (because they are\n",
    "immutable). Dictionaries are sometimes called &quot;associative arrays&quot; in other\n",
    "programming languages.</p>\n",
    "<p>There are several ways to define dictionaries. One method is to use braces, {},\n",
    "with comma-separated entries given in the form <em>key:value</em>:</p>"
   ]
  },
  {
   "cell_type": "code",
   "execution_count": 0,
   "metadata": {
    "collapsed": false
   },
   "outputs": [
   ],
   "source": [
    "d = {3:17, 'key':[4,1,5,2,3], (3,1,2):'goo', 3/2 : 17}\n",
    "d"
   ]
  },
  {
   "cell_type": "markdown",
   "metadata": {
    "collapsed": false
   },
   "source": [
    "%html\n",
    "<p>A second solution for creating a dictionary is to use the function dict which\n",
    "admits a list of 2-tuples <em>(key, value)</em> (actually any iterable):</p>\n",
    "<!-- link -->"
   ]
  },
  {
   "cell_type": "code",
   "execution_count": 0,
   "metadata": {
    "collapsed": false
   },
   "outputs": [
   ],
   "source": [
    "dd = dict((i,i^2) for i in xrange(10))\n",
    "dd"
   ]
  },
  {
   "cell_type": "markdown",
   "metadata": {
    "collapsed": false
   },
   "source": [
    "%html\n",
    "<p>Dictionaries behave as lists and tuples for several important operations.</p>\n",
    "<table border=\"1\" class=\"docutils\">\n",
    "<colgroup>\n",
    "<col width=\"28%\">\n",
    "<col width=\"32%\">\n",
    "<col width=\"40%\">\n",
    "</colgroup>\n",
    "<thead valign=\"bottom\">\n",
    "<tr><th class=\"head\">Operation</th>\n",
    "<th class=\"head\">Syntax for lists</th>\n",
    "<th class=\"head\">Syntax for dictionaries</th>\n",
    "</tr>\n",
    "</thead>\n",
    "<tbody valign=\"top\">\n",
    "<tr><td>Accessing elements</td>\n",
    "<td><tt class=\"docutils literal\">list[3]</tt></td>\n",
    "<td><tt class=\"docutils literal\"><span class=\"pre\">D[&quot;key&quot;]</span></tt></td>\n",
    "</tr>\n",
    "<tr><td>Length</td>\n",
    "<td><tt class=\"docutils literal\">len(list)</tt></td>\n",
    "<td><tt class=\"docutils literal\">len(D)</tt></td>\n",
    "</tr>\n",
    "<tr><td>Modifying</td>\n",
    "<td><tt class=\"docutils literal\">L[3] = 17</tt></td>\n",
    "<td><tt class=\"docutils literal\"><span class=\"pre\">D[&quot;key&quot;]</span> = 17</tt></td>\n",
    "</tr>\n",
    "<tr><td>Deleting items</td>\n",
    "<td><tt class=\"docutils literal\">del L[3]</tt></td>\n",
    "<td><tt class=\"docutils literal\">del <span class=\"pre\">D[&quot;key&quot;]</span></tt></td>\n",
    "</tr>\n",
    "</tbody>\n",
    "</table>\n",
    "<!-- link -->"
   ]
  },
  {
   "cell_type": "code",
   "execution_count": 0,
   "metadata": {
    "collapsed": false
   },
   "outputs": [
   ],
   "source": [
    "d[10]='a'\n",
    "d"
   ]
  },
  {
   "cell_type": "markdown",
   "metadata": {
    "collapsed": false
   },
   "source": [
    "%html\n",
    "<p>A dictionary can have the same value multiple times, but each key must only\n",
    "appear once and must be \"immutable\".</p>"
   ]
  },
  {
   "cell_type": "code",
   "execution_count": 0,
   "metadata": {
    "collapsed": false
   },
   "outputs": [
   ],
   "source": [
    "d = {3: 14, 4: 14}\n",
    "d"
   ]
  },
  {
   "cell_type": "code",
   "execution_count": 0,
   "metadata": {
    "collapsed": false
   },
   "outputs": [
   ],
   "source": [
    "d = {3: 13, 3: 14}\n",
    "d"
   ]
  },
  {
   "cell_type": "code",
   "execution_count": 0,
   "metadata": {
    "collapsed": false
   },
   "outputs": [
   ],
   "source": [
    "d = {[1,2,3] : 12}"
   ]
  },
  {
   "cell_type": "markdown",
   "metadata": {
    "collapsed": false
   },
   "source": [
    "%html\n",
    "<p>Another way to add items to a dictionary is with the <tt class=\"docutils literal\">update()</tt> method which\n",
    "updates the dictionnary from another dictionnary:</p>"
   ]
  },
  {
   "cell_type": "code",
   "execution_count": 0,
   "metadata": {
    "collapsed": false
   },
   "outputs": [
   ],
   "source": [
    "d = {}\n",
    "d"
   ]
  },
  {
   "cell_type": "markdown",
   "metadata": {
    "collapsed": false
   },
   "source": [
    "%html\n",
    "<!-- link -->"
   ]
  },
  {
   "cell_type": "code",
   "execution_count": 0,
   "metadata": {
    "collapsed": false
   },
   "outputs": [
   ],
   "source": [
    "d.update( {10 : 'newvalue', 20: 'newervalue', 3: 14, 'a':[1,2,3]} )\n",
    "d"
   ]
  },
  {
   "cell_type": "markdown",
   "metadata": {
    "collapsed": false
   },
   "source": [
    "%html\n",
    "<p>We can iterate through the <em>keys</em>, or <em>values</em>, or both, of a dictionary.</p>"
   ]
  },
  {
   "cell_type": "code",
   "execution_count": 0,
   "metadata": {
    "collapsed": false
   },
   "outputs": [
   ],
   "source": [
    "d = {10 : 'newvalue', 20: 'newervalue', 3: 14, 'a':[1,2,3]}"
   ]
  },
  {
   "cell_type": "markdown",
   "metadata": {
    "collapsed": false
   },
   "source": [
    "%html\n",
    "<!-- link -->"
   ]
  },
  {
   "cell_type": "code",
   "execution_count": 0,
   "metadata": {
    "collapsed": false
   },
   "outputs": [
   ],
   "source": [
    "[key for key in d]"
   ]
  },
  {
   "cell_type": "markdown",
   "metadata": {
    "collapsed": false
   },
   "source": [
    "%html\n",
    "<!-- link -->"
   ]
  },
  {
   "cell_type": "code",
   "execution_count": 0,
   "metadata": {
    "collapsed": false
   },
   "outputs": [
   ],
   "source": [
    "[key for key in d.iterkeys()]"
   ]
  },
  {
   "cell_type": "markdown",
   "metadata": {
    "collapsed": false
   },
   "source": [
    "%html\n",
    "<!-- link -->"
   ]
  },
  {
   "cell_type": "code",
   "execution_count": 0,
   "metadata": {
    "collapsed": false
   },
   "outputs": [
   ],
   "source": [
    "[value for value in d.itervalues()]"
   ]
  },
  {
   "cell_type": "markdown",
   "metadata": {
    "collapsed": false
   },
   "source": [
    "%html\n",
    "<!-- link -->"
   ]
  },
  {
   "cell_type": "code",
   "execution_count": 0,
   "metadata": {
    "collapsed": false
   },
   "outputs": [
   ],
   "source": [
    "[(key, value) for key, value in d.iteritems()]"
   ]
  },
  {
   "cell_type": "markdown",
   "metadata": {
    "collapsed": false
   },
   "source": [
    "%html\n",
    "<p><strong>Exercise:</strong> Consider the following directed graph.</p>\n",
    "<img alt=\"images/graph0.png\" src=\"images/graph0.png\">\n",
    "<p>Create a dictionary whose keys are the vertices of the above directed graph,\n",
    "and whose values are the lists of the vertices that it points to. For\n",
    "instance, the vertex 1 points to the vertices 2 and 3, so the dictionary will\n",
    "look like:</p>\n",
    "<pre class=\"literal-block\">\n",
    "d = {&nbsp; ..., 1:[2,3], ... }&nbsp;\n",
    "\n",
    "</pre>"
   ]
  },
  {
   "cell_type": "code",
   "execution_count": 0,
   "metadata": {
    "collapsed": false
   },
   "outputs": [
   ],
   "source": [
   ]
  },
  {
   "cell_type": "markdown",
   "metadata": {
    "collapsed": false
   },
   "source": [
    "%html\n",
    "<p>Then try</p>\n",
    "<!-- skip -->"
   ]
  },
  {
   "cell_type": "code",
   "execution_count": 0,
   "metadata": {
    "collapsed": false
   },
   "outputs": [
   ],
   "source": [
    "g = DiGraph(d)\n",
    "g.plot()"
   ]
  },
  {
   "cell_type": "markdown",
   "metadata": {
    "collapsed": false
   },
   "source": [
    "%html\n",
    "<h2>Using Sage types: The srange command</h2>\n",
    "<p><strong>Example:</strong> Construct a $3 \\times 3$ matrix whose $(i,j)$ entry is the\n",
    "rational number $\\frac{i}{j}$. The integer generated by <tt class=\"docutils literal\">range</tt> are\n",
    "python <tt class=\"docutils literal\">int</tt>. As a consequence, dividing them does euclidian division.</p>"
   ]
  },
  {
   "cell_type": "code",
   "execution_count": 0,
   "metadata": {
    "collapsed": false
   },
   "outputs": [
   ],
   "source": [
    "matrix([[ i/j for j in range(1,4)] for i in range(1,4)])"
   ]
  },
  {
   "cell_type": "markdown",
   "metadata": {
    "collapsed": false
   },
   "source": [
    "%html\n",
    "<p>Whereas dividing a Sage <tt class=\"docutils literal\">Integer</tt> by a Sage <tt class=\"docutils literal\">Integer</tt> gives a rational number:</p>"
   ]
  },
  {
   "cell_type": "code",
   "execution_count": 0,
   "metadata": {
    "collapsed": false
   },
   "outputs": [
   ],
   "source": [
    "matrix([[ i/j for j in srange(1,4)] for i in srange(1,4)])"
   ]
  },
  {
   "cell_type": "markdown",
   "metadata": {
    "collapsed": false
   },
   "source": [
    "%html\n",
    "<h2>Modifying lists has consequences!</h2>\n",
    "<p>Try to predict the results of the following commands.</p>"
   ]
  },
  {
   "cell_type": "code",
   "execution_count": 0,
   "metadata": {
    "collapsed": false
   },
   "outputs": [
   ],
   "source": [
    "a = [1, 2, 3]\n",
    "L = [a, a, a]\n",
    "L"
   ]
  },
  {
   "cell_type": "markdown",
   "metadata": {
    "collapsed": false
   },
   "source": [
    "%html\n",
    "<!-- link -->"
   ]
  },
  {
   "cell_type": "code",
   "execution_count": 0,
   "metadata": {
    "collapsed": false
   },
   "outputs": [
   ],
   "source": [
    "a.append(4)\n",
    "L"
   ]
  },
  {
   "cell_type": "markdown",
   "metadata": {
    "collapsed": false
   },
   "source": [
    "%html\n",
    "<p>Now try these:</p>"
   ]
  },
  {
   "cell_type": "code",
   "execution_count": 0,
   "metadata": {
    "collapsed": false
   },
   "outputs": [
   ],
   "source": [
    "a = [1, 2, 3]\n",
    "L = [a, a, a]\n",
    "L"
   ]
  },
  {
   "cell_type": "markdown",
   "metadata": {
    "collapsed": false
   },
   "source": [
    "%html\n",
    "<!-- link -->"
   ]
  },
  {
   "cell_type": "code",
   "execution_count": 0,
   "metadata": {
    "collapsed": false
   },
   "outputs": [
   ],
   "source": [
    "a = [1, 2, 3, 4]\n",
    "L"
   ]
  },
  {
   "cell_type": "markdown",
   "metadata": {
    "collapsed": false
   },
   "source": [
    "%html\n",
    "<!-- link -->"
   ]
  },
  {
   "cell_type": "code",
   "execution_count": 0,
   "metadata": {
    "collapsed": false
   },
   "outputs": [
   ],
   "source": [
    "L[0].append(4)\n",
    "L"
   ]
  },
  {
   "cell_type": "markdown",
   "metadata": {
    "collapsed": false
   },
   "source": [
    "%html\n",
    "<p>You can use the command <em>deepcopy</em> to avoid these issues.</p>"
   ]
  },
  {
   "cell_type": "code",
   "execution_count": 0,
   "metadata": {
    "collapsed": false
   },
   "outputs": [
   ],
   "source": [
    "a = [1,2,3]\n",
    "L = [deepcopy(a), deepcopy(a)]\n",
    "L"
   ]
  },
  {
   "cell_type": "markdown",
   "metadata": {
    "collapsed": false
   },
   "source": [
    "%html\n",
    "<!-- link -->"
   ]
  },
  {
   "cell_type": "code",
   "execution_count": 0,
   "metadata": {
    "collapsed": false
   },
   "outputs": [
   ],
   "source": [
    "a.append(4)\n",
    "L"
   ]
  },
  {
   "cell_type": "markdown",
   "metadata": {
    "collapsed": false
   },
   "source": [
    "%html\n",
    "<p>The same issues occur with dictionaries.</p>"
   ]
  },
  {
   "cell_type": "code",
   "execution_count": 0,
   "metadata": {
    "collapsed": false
   },
   "outputs": [
   ],
   "source": [
    "d = {1:'a', 2:'b', 3:'c'}\n",
    "dd = d\n",
    "d.update( { 4:'d' } )\n",
    "dd"
   ]
  },
  {
   "cell_type": "markdown",
   "metadata": {
    "collapsed": false
   },
   "source": [
    "%html\n",
    "<h1>Loops and Functions</h1>\n",
    "<p>For more verbose explanation of what's going on here, a good place to look is\n",
    "at the following section of the Python tutorial:\n",
    "<a class=\"reference external\" href=\"http://docs.python.org/tutorial/controlflow.html\">http://docs.python.org/tutorial/controlflow.html</a></p>\n",
    "\n",
    "<h2>While Loops</h2>\n",
    "<p>While loops tend not to be used nearly as much as for loops in Python code.</p>"
   ]
  },
  {
   "cell_type": "code",
   "execution_count": 0,
   "metadata": {
    "collapsed": false
   },
   "outputs": [
   ],
   "source": [
    "i = 0\n",
    "while i < 10:\n",
    "       print i\n",
    "       i += 1"
   ]
  },
  {
   "cell_type": "code",
   "execution_count": 0,
   "metadata": {
    "collapsed": false
   },
   "outputs": [
   ],
   "source": [
    "i = 0\n",
    "while i < 10:\n",
    "       if i % 2 == 1:\n",
    "           i += 1\n",
    "           continue\n",
    "       print i\n",
    "       i += 1"
   ]
  },
  {
   "cell_type": "markdown",
   "metadata": {
    "collapsed": false
   },
   "source": [
    "%html\n",
    "<p>Note that the truth value expression in the <em>while</em> loop is evaluated using\n",
    "bool().</p>"
   ]
  },
  {
   "cell_type": "code",
   "execution_count": 0,
   "metadata": {
    "collapsed": false
   },
   "outputs": [
   ],
   "source": [
    "bool(True)"
   ]
  },
  {
   "cell_type": "code",
   "execution_count": 0,
   "metadata": {
    "collapsed": false
   },
   "outputs": [
   ],
   "source": [
    "bool('a')"
   ]
  },
  {
   "cell_type": "code",
   "execution_count": 0,
   "metadata": {
    "collapsed": false
   },
   "outputs": [
   ],
   "source": [
    "bool(1)"
   ]
  },
  {
   "cell_type": "code",
   "execution_count": 0,
   "metadata": {
    "collapsed": false
   },
   "outputs": [
   ],
   "source": [
    "bool(0)"
   ]
  },
  {
   "cell_type": "markdown",
   "metadata": {
    "collapsed": false
   },
   "source": [
    "%html\n",
    "<!-- skip -->"
   ]
  },
  {
   "cell_type": "code",
   "execution_count": 0,
   "metadata": {
    "collapsed": false
   },
   "outputs": [
   ],
   "source": [
    "i = 4\n",
    "while i:\n",
    "       print i\n",
    "       i -= 1"
   ]
  },
  {
   "cell_type": "markdown",
   "metadata": {
    "collapsed": false
   },
   "source": [
    "%html\n",
    "<h2>For Loops</h2>\n",
    "<p>Here is a basic for loop iterating over all of the elements in the list <tt class=\"docutils literal\">l</tt>:</p>"
   ]
  },
  {
   "cell_type": "code",
   "execution_count": 0,
   "metadata": {
    "collapsed": false
   },
   "outputs": [
   ],
   "source": [
    "l = ['a', 'b', 'c']\n",
    "for letter in l:\n",
    "       print letter"
   ]
  },
  {
   "cell_type": "markdown",
   "metadata": {
    "collapsed": false
   },
   "source": [
    "%html\n",
    "<p>The <em>range</em> function is very useful when you want to generate arithmetic\n",
    "progressions to loop over. Note that the end point is never included:</p>\n",
    "<!-- skip -->"
   ]
  },
  {
   "cell_type": "code",
   "execution_count": 0,
   "metadata": {
    "collapsed": false
   },
   "outputs": [
   ],
   "source": [
    "range?"
   ]
  },
  {
   "cell_type": "code",
   "execution_count": 0,
   "metadata": {
    "collapsed": false
   },
   "outputs": [
   ],
   "source": [
    "range(4)"
   ]
  },
  {
   "cell_type": "code",
   "execution_count": 0,
   "metadata": {
    "collapsed": false
   },
   "outputs": [
   ],
   "source": [
    "range(1, 5)"
   ]
  },
  {
   "cell_type": "code",
   "execution_count": 0,
   "metadata": {
    "collapsed": false
   },
   "outputs": [
   ],
   "source": [
    "range(1, 11, 2)"
   ]
  },
  {
   "cell_type": "code",
   "execution_count": 0,
   "metadata": {
    "collapsed": false
   },
   "outputs": [
   ],
   "source": [
    "range(10, 0, -1)"
   ]
  },
  {
   "cell_type": "code",
   "execution_count": 0,
   "metadata": {
    "collapsed": false
   },
   "outputs": [
   ],
   "source": [
    "for i in range(4):\n",
    "       print i, i*i"
   ]
  },
  {
   "cell_type": "markdown",
   "metadata": {
    "collapsed": false
   },
   "source": [
    "%html\n",
    "<p>You can use the <em>continue</em> keyword to immediately go to the next item in the\n",
    "loop:</p>"
   ]
  },
  {
   "cell_type": "code",
   "execution_count": 0,
   "metadata": {
    "collapsed": false
   },
   "outputs": [
   ],
   "source": [
    "for i in range(10):\n",
    "       if i % 2 == 0:\n",
    "           continue\n",
    "       print i"
   ]
  },
  {
   "cell_type": "markdown",
   "metadata": {
    "collapsed": false
   },
   "source": [
    "%html\n",
    "<p>If you want to break out of the loop, use the <em>break</em> keyword:</p>"
   ]
  },
  {
   "cell_type": "code",
   "execution_count": 0,
   "metadata": {
    "collapsed": false
   },
   "outputs": [
   ],
   "source": [
    "for i in range(10):\n",
    "       if i % 2 == 0:\n",
    "           continue\n",
    "       if i == 7:\n",
    "           break\n",
    "       print i"
   ]
  },
  {
   "cell_type": "markdown",
   "metadata": {
    "collapsed": false
   },
   "source": [
    "%html\n",
    "<p>If you need to keep track of both the position in the list and its value, one (not so elegant) way would be to do the following:</p>"
   ]
  },
  {
   "cell_type": "code",
   "execution_count": 0,
   "metadata": {
    "collapsed": false
   },
   "outputs": [
   ],
   "source": [
    "l = ['a', 'b', 'c']\n",
    "for i in range(len(l)):\n",
    "       print i, l[i]"
   ]
  },
  {
   "cell_type": "markdown",
   "metadata": {
    "collapsed": false
   },
   "source": [
    "%html\n",
    "<p>It's cleaner to use <em>enumerate</em> which provides the index as well as the value:</p>"
   ]
  },
  {
   "cell_type": "code",
   "execution_count": 0,
   "metadata": {
    "collapsed": false
   },
   "outputs": [
   ],
   "source": [
    "l = ['a', 'b', 'c']\n",
    "for i, letter in enumerate(l):\n",
    "       print i, letter"
   ]
  },
  {
   "cell_type": "markdown",
   "metadata": {
    "collapsed": false
   },
   "source": [
    "%html\n",
    "<p>You could make something similary to the <em>enumerate</em> function by using <em>zip</em>\n",
    "to zip two lists together:</p>"
   ]
  },
  {
   "cell_type": "code",
   "execution_count": 0,
   "metadata": {
    "collapsed": false
   },
   "outputs": [
   ],
   "source": [
    "l = ['a', 'b', 'c']\n",
    "for i, letter in zip(range(len(l)), l):\n",
    "       print i, letter"
   ]
  },
  {
   "cell_type": "markdown",
   "metadata": {
    "collapsed": false
   },
   "source": [
    "%html\n",
    "<p>For loops work using Python's iterator protocol.&nbsp; This allows all sorts of different objects to be looped over.&nbsp; For example,</p>"
   ]
  },
  {
   "cell_type": "code",
   "execution_count": 0,
   "metadata": {
    "collapsed": false
   },
   "outputs": [
   ],
   "source": [
    "GF(5)"
   ]
  },
  {
   "cell_type": "code",
   "execution_count": 0,
   "metadata": {
    "collapsed": false
   },
   "outputs": [
   ],
   "source": [
    "for i in GF(5):\n",
    "       print i, i*i"
   ]
  },
  {
   "cell_type": "code",
   "execution_count": 0,
   "metadata": {
    "collapsed": false
   },
   "outputs": [
   ],
   "source": [
   ]
  },
  {
   "cell_type": "markdown",
   "metadata": {
    "collapsed": false
   },
   "source": [
    "%html\n",
    "<h3>Exercise</h3>\n",
    "<p>For each of the following sets, compute the list of its elements and their sum. Use two different ways, if possible: with a loop; and using a list comprehension.</p>\n",
    "<ul>\n",
    "<li>\n",
    "<p class=\"first\">The first $n$ terms of the harmonic series:</p>\n",
    "$$\\sum_{&nbsp;i=1}^n \\frac{1}{i}$$\n",
    "</li>\n",
    "</ul>"
   ]
  },
  {
   "cell_type": "code",
   "execution_count": 0,
   "metadata": {
    "collapsed": false
   },
   "outputs": [
   ],
   "source": [
   ]
  },
  {
   "cell_type": "markdown",
   "metadata": {
    "collapsed": false
   },
   "source": [
    "%html\n",
    "</li>\n",
    "<li><p class=\"first\">The odd integers between $1$ and $n$.</p>"
   ]
  },
  {
   "cell_type": "code",
   "execution_count": 0,
   "metadata": {
    "collapsed": false
   },
   "outputs": [
   ],
   "source": [
   ]
  },
  {
   "cell_type": "markdown",
   "metadata": {
    "collapsed": false
   },
   "source": [
    "%html\n",
    "</li>\n",
    "<li><p class=\"first\">The first $n$ odd integers.</p>"
   ]
  },
  {
   "cell_type": "code",
   "execution_count": 0,
   "metadata": {
    "collapsed": false
   },
   "outputs": [
   ],
   "source": [
   ]
  },
  {
   "cell_type": "markdown",
   "metadata": {
    "collapsed": false
   },
   "source": [
    "%html\n",
    "</li>\n",
    "<li><p class=\"first\">The integers between $1$ and $n$ that are neither divisible by $2$\n",
    "nor by $3$ nor by $5$.</p>"
   ]
  },
  {
   "cell_type": "code",
   "execution_count": 0,
   "metadata": {
    "collapsed": false
   },
   "outputs": [
   ],
   "source": [
   ]
  },
  {
   "cell_type": "markdown",
   "metadata": {
    "collapsed": false
   },
   "source": [
    "%html\n",
    "</li>\n",
    "<li><p class=\"first\">The first $n$ integers between $1$ and $n$ that are neither divisible\n",
    "by $2$ nor by $3$ nor by $5$.</p>"
   ]
  },
  {
   "cell_type": "code",
   "execution_count": 0,
   "metadata": {
    "collapsed": false
   },
   "outputs": [
   ],
   "source": [
   ]
  },
  {
   "cell_type": "markdown",
   "metadata": {
    "collapsed": false
   },
   "source": [
    "%html\n",
    "<h2>Functions</h2>\n",
    "<p>Functions are defined using the <em>def</em> statement, and values are returned using\n",
    "the <em>return</em> keyword:</p>"
   ]
  },
  {
   "cell_type": "code",
   "execution_count": 0,
   "metadata": {
    "collapsed": false
   },
   "outputs": [
   ],
   "source": [
    "def f(x):\n",
    "    return x*x"
   ]
  },
  {
   "cell_type": "code",
   "execution_count": 0,
   "metadata": {
    "collapsed": false
   },
   "outputs": [
   ],
   "source": [
    "f(2)"
   ]
  },
  {
   "cell_type": "code",
   "execution_count": 0,
   "metadata": {
    "collapsed": false
   },
   "outputs": [
   ],
   "source": [
   ]
  },
  {
   "cell_type": "markdown",
   "metadata": {
    "collapsed": false
   },
   "source": [
    "%html\n",
    "<!-- link -->"
   ]
  },
  {
   "cell_type": "markdown",
   "metadata": {
    "collapsed": false
   },
   "source": [
    "%html\n",
    "Here is a function that returns the $n$-th Fibonacci number."
   ]
  },
  {
   "cell_type": "code",
   "execution_count": 0,
   "metadata": {
    "collapsed": false
   },
   "outputs": [
   ],
   "source": [
    "def fib(n):\n",
    "       if n <= 1:\n",
    "           return 1\n",
    "       else:\n",
    "           return fib(n-1) + fib(n-2)"
   ]
  },
  {
   "cell_type": "markdown",
   "metadata": {
    "collapsed": false
   },
   "source": [
    "%html\n",
    "And here is a list of the first twenty Fibonacci numbers."
   ]
  },
  {
   "cell_type": "code",
   "execution_count": 0,
   "metadata": {
    "collapsed": false
   },
   "outputs": [
   ],
   "source": [
    "[fib(n) for n in range(20)]"
   ]
  },
  {
   "cell_type": "markdown",
   "metadata": {
    "collapsed": false
   },
   "source": [
    "%html\n",
    "<h4>\n",
    "    Default arguments for functions\n",
    "</h4>\n",
    "<p>You can give default values for arguments in functions:</p>"
   ]
  },
  {
   "cell_type": "code",
   "execution_count": 0,
   "metadata": {
    "collapsed": false
   },
   "outputs": [
   ],
   "source": [
    "def add_n(x, n=1):\n",
    "       return x + n"
   ]
  },
  {
   "cell_type": "markdown",
   "metadata": {
    "collapsed": false
   },
   "source": [
    "%html\n",
    "<!-- link -->"
   ]
  },
  {
   "cell_type": "code",
   "execution_count": 0,
   "metadata": {
    "collapsed": false
   },
   "outputs": [
   ],
   "source": [
    "add_n(4)"
   ]
  },
  {
   "cell_type": "markdown",
   "metadata": {
    "collapsed": false
   },
   "source": [
    "%html\n",
    "<!-- link -->"
   ]
  },
  {
   "cell_type": "code",
   "execution_count": 0,
   "metadata": {
    "collapsed": false
   },
   "outputs": [
   ],
   "source": [
    "add_n(4, n=100)"
   ]
  },
  {
   "cell_type": "markdown",
   "metadata": {
    "collapsed": false
   },
   "source": [
    "%html\n",
    "<!-- link -->"
   ]
  },
  {
   "cell_type": "code",
   "execution_count": 0,
   "metadata": {
    "collapsed": false
   },
   "outputs": [
   ],
   "source": [
    "add_n(4, 1000)"
   ]
  },
  {
   "cell_type": "markdown",
   "metadata": {
    "collapsed": false
   },
   "source": [
    "%html\n",
    "<p>You can return multiple things from a function:</p>"
   ]
  },
  {
   "cell_type": "code",
   "execution_count": 0,
   "metadata": {
    "collapsed": false
   },
   "outputs": [
   ],
   "source": [
    "def g(x):\n",
    "       return x, x*x"
   ]
  },
  {
   "cell_type": "code",
   "execution_count": 0,
   "metadata": {
    "collapsed": false
   },
   "outputs": [
   ],
   "source": [
    "g(2)"
   ]
  },
  {
   "cell_type": "code",
   "execution_count": 0,
   "metadata": {
    "collapsed": false
   },
   "outputs": [
   ],
   "source": [
    "a,b = g(100)"
   ]
  },
  {
   "cell_type": "code",
   "execution_count": 0,
   "metadata": {
    "collapsed": false
   },
   "outputs": [
   ],
   "source": [
    "a"
   ]
  },
  {
   "cell_type": "code",
   "execution_count": 0,
   "metadata": {
    "collapsed": false
   },
   "outputs": [
   ],
   "source": [
    "b"
   ]
  },
  {
   "cell_type": "code",
   "execution_count": 0,
   "metadata": {
    "collapsed": false
   },
   "outputs": [
   ],
   "source": [
   ]
  },
  {
   "cell_type": "markdown",
   "metadata": {
    "collapsed": false
   },
   "source": [
    "%html\n",
    "<p>You can also take variable number of arguments and keyword arguments in a\n",
    "function:</p>"
   ]
  },
  {
   "cell_type": "code",
   "execution_count": 0,
   "metadata": {
    "collapsed": false
   },
   "outputs": [
   ],
   "source": [
    "def h(*args, **kwds):\n",
    "       print type(args), args\n",
    "       print type(kwds), kwds"
   ]
  },
  {
   "cell_type": "markdown",
   "metadata": {
    "collapsed": false
   },
   "source": [
    "%html\n",
    "<!-- link -->"
   ]
  },
  {
   "cell_type": "code",
   "execution_count": 0,
   "metadata": {
    "collapsed": false
   },
   "outputs": [
   ],
   "source": [
    "h(1,2,3,n=4)"
   ]
  },
  {
   "cell_type": "markdown",
   "metadata": {
    "collapsed": false
   },
   "source": [
    "%html\n",
    "<p>Let's use the <em>yield</em> instruction to make a generator for the Fibonacci numbers less than $n$:</p>"
   ]
  },
  {
   "cell_type": "code",
   "execution_count": 0,
   "metadata": {
    "collapsed": false
   },
   "outputs": [
   ],
   "source": [
    "def fib_gen(n):\n",
    "       if n < 1:\n",
    "           return\n",
    "       a = b = 1\n",
    "       yield b\n",
    "       while b < n:\n",
    "           yield b\n",
    "           a, b = b, b+a"
   ]
  },
  {
   "cell_type": "code",
   "execution_count": 0,
   "metadata": {
    "collapsed": false
   },
   "outputs": [
   ],
   "source": [
    "for i in fib_gen(50):\n",
    "       print i"
   ]
  },
  {
   "cell_type": "markdown",
   "metadata": {
    "collapsed": false
   },
   "source": [
    "%html\n",
    "<h3>Exercices</h3>\n",
    "<ol class=\"arabic simple\">\n",
    "<li>Write a function <tt class=\"docutils literal\">is_even</tt> returning <tt class=\"docutils literal\">True</tt> if <tt class=\"docutils literal\">n</tt> is even\n",
    "and <tt class=\"docutils literal\">False</tt> otherwise.</li>\n",
    "<li>Write a function <tt class=\"docutils literal\">every_other</tt> which takes a list <tt class=\"docutils literal\">l</tt> and returns a\n",
    "list containing every other element of <tt class=\"docutils literal\">l</tt></li>\n",
    "<li>Write a function computing the $n$-th Fibonacci number. Try to improve\n",
    "performance.</li>\n",
    "</ol>"
   ]
  },
  {
   "cell_type": "code",
   "execution_count": 0,
   "metadata": {
    "collapsed": false
   },
   "outputs": [
   ],
   "source": [
   ]
  },
  {
   "cell_type": "code",
   "execution_count": 0,
   "metadata": {
    "collapsed": false
   },
   "outputs": [
   ],
   "source": [
   ]
  },
  {
   "cell_type": "code",
   "execution_count": 0,
   "metadata": {
    "collapsed": false
   },
   "outputs": [
   ],
   "source": [
   ]
  },
  {
   "cell_type": "code",
   "execution_count": 0,
   "metadata": {
    "collapsed": false
   },
   "outputs": [
   ],
   "source": [
   ]
  },
  {
   "cell_type": "code",
   "execution_count": 0,
   "metadata": {
    "collapsed": false
   },
   "outputs": [
   ],
   "source": [
   ]
  }
 ],
 "metadata": {
  "kernelspec": {
   "display_name": "SageMath (stable)",
   "language": "sagemath",
   "metadata": {
    "cocalc": {
     "description": "Open-source mathematical software system",
     "priority": 10,
     "url": "https://www.sagemath.org/"
    }
   },
   "name": "sagemath"
  },
  "language_info": {
   "codemirror_mode": {
    "name": "ipython",
    "version": 2
   },
   "file_extension": ".py",
   "mimetype": "text/x-python",
   "name": "python",
   "nbconvert_exporter": "python",
   "pygments_lexer": "ipython2",
   "version": "2.7.15"
  }
 },
 "nbformat": 4,
 "nbformat_minor": 0
}
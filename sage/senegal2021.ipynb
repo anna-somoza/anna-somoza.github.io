{
 "cells": [
  {
   "cell_type": "markdown",
   "metadata": {},
   "source": [
    "# Theta functions with Sagemath\n",
    "\n",
    "In this tutorial, we will famliliarize ourselves with Sagemath and see some practical experiments with the Weierstrass $\\wp$-function and Riemann theta functions."
   ]
  },
  {
   "cell_type": "markdown",
   "metadata": {},
   "source": [
    "## 1 - Quick introduction to Sagemath\n",
    "\n",
    "If you are already familiar with Sagemath or Python, move forward to the Exercises section.\n",
    "Otherwise, here you have some useful tools.\n",
    "\n",
    "### Getting to know the interface\n",
    "\n",
    "First and foremost, Python (and therefore Sage) can be quite intuitive, especially when you are starting. That is where *Autocomplete* comes in very handy. Use the TAB key to autocomplete or see the possible methods.\n",
    "\n",
    "- Run the following cell (Shift + Enter or the button Run on the toolbar)"
   ]
  },
  {
   "cell_type": "code",
   "execution_count": null,
   "metadata": {},
   "outputs": [],
   "source": [
    "a = Matrix([[1,2],[3,4]]); a #Matrices are seen as lists of lists, and given by rows"
   ]
  },
  {
   "cell_type": "markdown",
   "metadata": {},
   "source": [
    "- In the following cell type `a.` and press the TAB key ( ->| ) to see all the methods associated to a matrix."
   ]
  },
  {
   "cell_type": "code",
   "execution_count": null,
   "metadata": {},
   "outputs": [],
   "source": []
  },
  {
   "cell_type": "markdown",
   "metadata": {},
   "source": [
    "- You can also use this approach to find the exact name of a method. For example, to factor a number, should you write `factor` or `factorize`? Try typing `fac` and tab complete to figure it out. \n",
    "\n",
    "Good to know: In (Python) Sagemath, the creator of an object is capitalized (e.g. Matrix as above) and methods are not (the function that you are looking fot here, or the things that you find when you tab complete in the first question)"
   ]
  },
  {
   "cell_type": "code",
   "execution_count": null,
   "metadata": {},
   "outputs": [],
   "source": []
  },
  {
   "cell_type": "markdown",
   "metadata": {},
   "source": [
    "- To learn more about a given method, type its name followed by a question mark and then run the cell. Try it for some of the functions you have seen so far."
   ]
  },
  {
   "cell_type": "code",
   "execution_count": null,
   "metadata": {},
   "outputs": [],
   "source": []
  },
  {
   "cell_type": "markdown",
   "metadata": {},
   "source": [
    "Lastly, any question you have about Sagemath is already answered on the internet. The official documentation is [here](https://doc.sagemath.org/) but there's also a stackexchange-type website only for sage [here](https://ask.sagemath.org/questions/) and in general googleing \"sagemath\"+ your question works great.\n",
    "\n",
    "\n",
    "### Doing some basic computations\n",
    "\n",
    "Contrary to what happens in Magma, in Sagemath you assign variables with an equal sign `=`, and do not need to add `;` at the end of every line. To see a variable just type its name and run the cell (remember: Shift + Enter or the button Run above). \n",
    "\n",
    "We will now go through some (maybe familiar) exercises to get familiarized with Sage. If you need more code boxes, you can use the `+` button in the toolbar above.\n",
    "\n",
    "- Compute $\\frac{123}{10} + \\frac{33}{127}$"
   ]
  },
  {
   "cell_type": "code",
   "execution_count": null,
   "metadata": {},
   "outputs": [],
   "source": []
  },
  {
   "cell_type": "markdown",
   "metadata": {},
   "source": [
    "- Compute $2 + \\sqrt{3}$"
   ]
  },
  {
   "cell_type": "code",
   "execution_count": null,
   "metadata": {},
   "outputs": [],
   "source": []
  },
  {
   "cell_type": "markdown",
   "metadata": {},
   "source": [
    "- Compute $200!$ and factorize this number"
   ]
  },
  {
   "cell_type": "code",
   "execution_count": null,
   "metadata": {},
   "outputs": [],
   "source": []
  },
  {
   "cell_type": "markdown",
   "metadata": {},
   "source": [
    "- Create a random list of 10 integers. Extract the 8th."
   ]
  },
  {
   "cell_type": "code",
   "execution_count": null,
   "metadata": {},
   "outputs": [],
   "source": []
  },
  {
   "cell_type": "markdown",
   "metadata": {},
   "source": [
    "Now we will look into more mathematically-relevant methods.\n",
    "\n",
    "- Create the field of rationals"
   ]
  },
  {
   "cell_type": "code",
   "execution_count": null,
   "metadata": {},
   "outputs": [],
   "source": []
  },
  {
   "cell_type": "markdown",
   "metadata": {},
   "source": [
    "- Create the field $F = \\mathbb{F}_{23}$."
   ]
  },
  {
   "cell_type": "code",
   "execution_count": null,
   "metadata": {},
   "outputs": [],
   "source": []
  },
  {
   "cell_type": "markdown",
   "metadata": {},
   "source": [
    "- Add 10 adn 5 in this field. This leads to the notion of coercion: `F(20)`"
   ]
  },
  {
   "cell_type": "code",
   "execution_count": null,
   "metadata": {},
   "outputs": [],
   "source": []
  },
  {
   "cell_type": "markdown",
   "metadata": {},
   "source": [
    "- Create the field $K = \\mathbb{F}_{23}^4$. What is a defining polynomial for this field? Compute the square root of 10 in this field.\n",
    "\n",
    "Note that in (Python) Sage, when you want to know things closely related to an object, you can check at their associated methods by tab-completing with a dot: Try it with `K.`"
   ]
  },
  {
   "cell_type": "code",
   "execution_count": null,
   "metadata": {},
   "outputs": [],
   "source": []
  },
  {
   "cell_type": "markdown",
   "metadata": {},
   "source": [
    "One would like also to create extensions by choosing a defining polynomial.\n",
    "- Create the polynomial ring $R$ with variable $x$ over $\\mathbb{F}_5$."
   ]
  },
  {
   "cell_type": "code",
   "execution_count": null,
   "metadata": {},
   "outputs": [],
   "source": []
  },
  {
   "cell_type": "markdown",
   "metadata": {},
   "source": [
    "- Create the polynomial $f = x^6 + 3x + 3$. Evaluate $f$ at $2$. Is $f$ irreducible? What is its splitting field? Call it $F$ with variable $w$."
   ]
  },
  {
   "cell_type": "code",
   "execution_count": null,
   "metadata": {},
   "outputs": [],
   "source": []
  },
  {
   "cell_type": "markdown",
   "metadata": {},
   "source": [
    "- Create an extension of $F$ of degree $3$ by a polynomial of your choice."
   ]
  },
  {
   "cell_type": "code",
   "execution_count": null,
   "metadata": {},
   "outputs": [],
   "source": []
  },
  {
   "cell_type": "markdown",
   "metadata": {},
   "source": [
    "We will stop repeating exercises now. Let's see the toolbox that we have for elliptic curves in Sage."
   ]
  },
  {
   "cell_type": "markdown",
   "metadata": {},
   "source": [
    "### Working with elliptic curves\n",
    "\n",
    "- Create the elliptic curve $y^2 = x^3 + 7x + 5$ over $\\mathbb{F}_{11}$, and compute its rational points."
   ]
  },
  {
   "cell_type": "code",
   "execution_count": null,
   "metadata": {},
   "outputs": [],
   "source": []
  },
  {
   "cell_type": "markdown",
   "metadata": {},
   "source": [
    "- Choose a couple of the points above, and add them."
   ]
  },
  {
   "cell_type": "code",
   "execution_count": null,
   "metadata": {},
   "outputs": [],
   "source": []
  },
  {
   "cell_type": "markdown",
   "metadata": {},
   "source": [
    "- Create now the curve above, but over the rationals. Similarly to magma, you can do so with the `change_ring` method. What is the discriminant and the $j$-invariant of this curve?"
   ]
  },
  {
   "cell_type": "code",
   "execution_count": null,
   "metadata": {},
   "outputs": [],
   "source": []
  },
  {
   "cell_type": "markdown",
   "metadata": {},
   "source": [
    "- Finally, create the rational elliptic curve $y^2 = x(x-1)(x-5)$."
   ]
  },
  {
   "cell_type": "code",
   "execution_count": null,
   "metadata": {},
   "outputs": [],
   "source": []
  },
  {
   "cell_type": "markdown",
   "metadata": {},
   "source": [
    "Before we start with the exercises, let's see some basic Python programming."
   ]
  },
  {
   "cell_type": "markdown",
   "metadata": {},
   "source": [
    "### Ifs, for loops and functions"
   ]
  },
  {
   "cell_type": "markdown",
   "metadata": {},
   "source": [
    "In sage, tabulation is very important! You will come across it with `if`, `for`, and function definition. Here are some examples:\n",
    "- `if` statements"
   ]
  },
  {
   "cell_type": "code",
   "execution_count": null,
   "metadata": {},
   "outputs": [],
   "source": [
    "x = 3\n",
    "if x == 3:\n",
    "    print(\"hello\")"
   ]
  },
  {
   "cell_type": "markdown",
   "metadata": {},
   "source": [
    "- `for` statements"
   ]
  },
  {
   "cell_type": "code",
   "execution_count": null,
   "metadata": {},
   "outputs": [],
   "source": [
    "for e in range(20):\n",
    "    print(e, e^2)"
   ]
  },
  {
   "cell_type": "markdown",
   "metadata": {},
   "source": [
    "- Function definition: the following code creates a function that given two values $x$, $y$, returns the sum of their squares."
   ]
  },
  {
   "cell_type": "code",
   "execution_count": null,
   "metadata": {},
   "outputs": [],
   "source": [
    "def square_sum(x,y):\n",
    "    return x^2 + y^2"
   ]
  },
  {
   "cell_type": "code",
   "execution_count": null,
   "metadata": {},
   "outputs": [],
   "source": [
    "square_sum(2,3)"
   ]
  },
  {
   "cell_type": "markdown",
   "metadata": {},
   "source": [
    "### List comprehension\n",
    "\n",
    "One of (Python) Sagemath's superpower is list comprehension.\n",
    "\n",
    "- Start by creating a list with all numbers between 1 and 5."
   ]
  },
  {
   "cell_type": "code",
   "execution_count": null,
   "metadata": {},
   "outputs": [],
   "source": []
  },
  {
   "cell_type": "markdown",
   "metadata": {},
   "source": [
    "- Now create a list with all numbers between 1 and 100."
   ]
  },
  {
   "cell_type": "code",
   "execution_count": null,
   "metadata": {},
   "outputs": [],
   "source": []
  },
  {
   "cell_type": "markdown",
   "metadata": {},
   "source": [
    "Extra points if you managed to do it in one line! If you did not, check the method `range` and try again."
   ]
  },
  {
   "cell_type": "markdown",
   "metadata": {},
   "source": [
    "The following code creates a list with the 5th power of every integer between 1 and 10:"
   ]
  },
  {
   "cell_type": "code",
   "execution_count": null,
   "metadata": {},
   "outputs": [],
   "source": [
    "L = [a^5 for a in range(11)]\n",
    "L"
   ]
  },
  {
   "cell_type": "markdown",
   "metadata": {},
   "source": [
    "And the following code creates a list with the double of the elements above that are even:"
   ]
  },
  {
   "cell_type": "code",
   "execution_count": null,
   "metadata": {},
   "outputs": [],
   "source": [
    "M = [2*a for a in L if is_even(a)]\n",
    "M"
   ]
  },
  {
   "cell_type": "markdown",
   "metadata": {},
   "source": [
    "- Create now a list of the cube of all numbers between 5 and 25 that are not primes."
   ]
  },
  {
   "cell_type": "code",
   "execution_count": null,
   "metadata": {},
   "outputs": [],
   "source": []
  },
  {
   "cell_type": "markdown",
   "metadata": {},
   "source": [
    "- Compute the sum of the list above. To do so, check the method `sum`."
   ]
  },
  {
   "cell_type": "code",
   "execution_count": null,
   "metadata": {},
   "outputs": [],
   "source": []
  },
  {
   "cell_type": "markdown",
   "metadata": {},
   "source": [
    "## 2 - The Weierstrass $\\wp$-function\n",
    "\n",
    "To an elliptic curve $E$ defined over $\\mathbb{C}$ one associates a complex torus $\\mathbb{C}/\\Lambda$, which one can prove that is isomorphic to the set of complex points of the curve.\n",
    "$$E(\\mathbb{C}) \\cong \\mathbb{C}/\\Lambda.$$\n",
    "\n",
    "One way to see this relation is as follows:\n",
    "\n",
    "**Theorem** Let $\\Lambda$ be a lattice, and consider the Weierstrass $\\wp$-function \n",
    "$$\\wp(z;\\Lambda) = \\frac{1}{z^2} + \\sum_{\\omega\\in\\Lambda\\backslash\\{0\\}} \\left(\\frac{1}{(z - \\omega)^2} - \\frac{1}{\\omega^2}\\right).$$\n",
    "\n",
    "Then, the complex torus $\\mathbb{C}/\\Lambda$ is isomorphic to an elliptic curve with equation\n",
    "\n",
    "$$ \\wp'(z;\\Lambda)^2 = 4\\wp(z;\\Lambda)^3 - g_2(\\Lambda) \\wp(z;\\Lambda) - g3(\\Lambda), $$\n",
    "\n",
    "with \n",
    "$$g_2(\\Lambda) = 60\\sum_{\\lambda\\in\\Lambda\\backslash\\{0\\}} \\frac{1}{\\lambda^4}, \\quad g_3(\\Lambda) = 140\\sum_{\\lambda\\in\\Lambda\\backslash\\{0\\}} \\frac{1}{\\lambda^6}.$$\n",
    "\n",
    "\n",
    "\n",
    "Throughout the section, we will work with precision 100."
   ]
  },
  {
   "cell_type": "code",
   "execution_count": null,
   "metadata": {},
   "outputs": [],
   "source": [
    "CC = ComplexField(100)"
   ]
  },
  {
   "cell_type": "markdown",
   "metadata": {},
   "source": [
    "**Exercise 1** We can use the infinite series $g_2, g_3$ as defined above to compute the equation of our elliptic curve. Complete the code below to compute \\\\(g_2(\\Lambda), g_3(\\Lambda)\\\\) for a full rank lattice \\\\(\\Lambda = \\tau\\mathbb{Z} + \\mathbb{Z}\\\\). Use a parameter \\\\(B\\\\) to bound the list of elements to sum over."
   ]
  },
  {
   "cell_type": "code",
   "execution_count": null,
   "metadata": {},
   "outputs": [],
   "source": [
    "def g2g3(tau, B):\n",
    "    #Your code goes here\n",
    "    return g2, g3"
   ]
  },
  {
   "cell_type": "markdown",
   "metadata": {},
   "source": [
    "Compute the $j$-invariant of the elliptic curve associated to a lattice of your choice."
   ]
  },
  {
   "cell_type": "code",
   "execution_count": null,
   "metadata": {},
   "outputs": [],
   "source": []
  },
  {
   "cell_type": "markdown",
   "metadata": {},
   "source": [
    "**Exercise 2** Alternatively, we can use the Weierstrass $\\wp$-function to recover enough information of the curve. Implement the \\\\(\\wp\\\\)-function for a lattice \\\\(\\Lambda = \\tau\\mathbb{Z} + \\mathbb{Z}\\\\). Use a parameter \\\\(B\\\\) to bound the list of elements to sum over."
   ]
  },
  {
   "cell_type": "code",
   "execution_count": null,
   "metadata": {},
   "outputs": [],
   "source": [
    "def wp(tau, z, B):\n",
    "    #Your code goes here"
   ]
  },
  {
   "cell_type": "markdown",
   "metadata": {},
   "source": [
    "Next, use the function you just created to compute the Weierstrass points of the elliptic curve associated to a lattice  of your choice. These are the 2-torsion points of the curve, and one can obtain them by looking at the 2-torsion point of the complex torus!"
   ]
  },
  {
   "cell_type": "code",
   "execution_count": null,
   "metadata": {},
   "outputs": [],
   "source": []
  },
  {
   "cell_type": "markdown",
   "metadata": {},
   "source": [
    "Knowing this points we can go from the model obtained with $\\wp$ to the so-called Legendre model\n",
    "$$y^2 = x(x-1)(x-\\lambda)$$\n",
    "\n",
    "To do so we consider the factorization of the original equation\n",
    "$$y^2 = 4(x-e_1)(x-e_2)(x-e_3)$$\n",
    "where $e_1, e_2, e_3$ are the $x$-coordinates of the Weierstrass points, and compute\n",
    "$$\\lambda = \\frac{e_3-e_1}{e_2-e_1}$$\n",
    "\n",
    "Try to compute $\\lambda$ using $\\wp$."
   ]
  },
  {
   "cell_type": "code",
   "execution_count": null,
   "metadata": {},
   "outputs": [],
   "source": []
  },
  {
   "cell_type": "markdown",
   "metadata": {},
   "source": [
    "## 3 - The Riemann theta function\n",
    "\n",
    "The functions above have a very slow convergence so they are not convenient to use for computational purposes. That is why we prefer to consider the Riemann theta functions. Let $\\Lambda = \\tau\\mathbb{Z} + \\mathbb{Z}$ be a lattice with $\\operatorname{im} \\tau > 0$. We define the Riemann theta function as follows:\n",
    "\n",
    "$$\\theta(z, \\tau) = \\sum_{n\\in\\mathbb{Z}} \\exp(\\pi i n^2\\tau + 2\\pi i n z)$$\n",
    "\n",
    "Moreover, given $(a,b) \\in \\mathbb{R}^2$, we define the Riemann theta function with characteristics $(a,b)$ as follows:\n",
    "\n",
    "$$\\theta_{a,b}(z, \\tau) = \\sum_{n\\in\\mathbb{Z}} \\exp(\\pi i (a+n)^2\\tau + 2\\pi i (n + a) (z + b))$$\n"
   ]
  },
  {
   "cell_type": "markdown",
   "metadata": {},
   "source": [
    "**Exercise 3** Implement the theta function and the theta function with characteristics \\\\((a,b)\\in\\mathbb{R}\\\\), truncated to \\\\(n\\in(-B,B)\\\\)."
   ]
  },
  {
   "cell_type": "code",
   "execution_count": null,
   "metadata": {},
   "outputs": [],
   "source": [
    "pi = CC(pi) #We define the values of i and pi to the precision of the complex field CC\n",
    "def theta(z, tau, B):\n",
    "    #Your code goes here\n",
    "    \n",
    "def theta_char(z, tau, B, chars):\n",
    "    #Your code goes here"
   ]
  },
  {
   "cell_type": "markdown",
   "metadata": {},
   "source": [
    "The reason why we are interested in these functions is the following:\n",
    "\n",
    "**Theorem** Let $\\Lambda = \\tau\\mathbb{Z} + \\mathbb{Z}$ be a full rank lattice, with $\\operatorname{im}\\tau > 0$. Then, the complex torus $\\mathbb{C}/\\Lambda$ is isomorphic to the ellipic curve\n",
    "\n",
    "$$y^2 = x(x-1)(x-\\lambda(\\tau))$$\n",
    "\n",
    "with\n",
    "\n",
    "$$\\lambda(\\tau) = \\frac{\\theta_{1/2,1/2}(0,\\tau)^4}{\\theta_{0,0}(0,\\tau)^4} $$"
   ]
  },
  {
   "cell_type": "markdown",
   "metadata": {},
   "source": [
    "**Exercise 4** Compute the value of $\\lambda$ for a lattice of your choice using your implementation of the Riemann theta functions. Compare the obtained result with that of the previous exercises."
   ]
  },
  {
   "cell_type": "code",
   "execution_count": null,
   "metadata": {},
   "outputs": [],
   "source": []
  },
  {
   "cell_type": "markdown",
   "metadata": {},
   "source": [
    "Hint: Keep in mind that the parameter $\\lambda$ is not unique. You can use the $j$-invariant to see if two parameters give the same elliptic curve."
   ]
  },
  {
   "cell_type": "markdown",
   "metadata": {},
   "source": [
    "**Exercise 4** Take the elliptic curve of your choice and compute its $j$-invariant and its period $\\tau$. (Hint: look at the `period lattice` method.) Can you use the functions above to recover the $j$-invariant from $\\tau$?"
   ]
  },
  {
   "cell_type": "code",
   "execution_count": null,
   "metadata": {},
   "outputs": [],
   "source": []
  },
  {
   "cell_type": "markdown",
   "metadata": {},
   "source": [
    "**Exercise 5** Repeat these computations with both methods using different values of \\\\(B\\\\) and compare the timing and precision."
   ]
  },
  {
   "cell_type": "markdown",
   "metadata": {},
   "source": [
    "*Example on how to time a function*"
   ]
  },
  {
   "cell_type": "code",
   "execution_count": null,
   "metadata": {},
   "outputs": [],
   "source": [
    "%time 2+3"
   ]
  },
  {
   "cell_type": "code",
   "execution_count": null,
   "metadata": {},
   "outputs": [],
   "source": []
  },
  {
   "cell_type": "markdown",
   "metadata": {},
   "source": [
    "As you have seen with this examples, this algorithm gives us only a numerical approximation of the equation of the curve. Next we will see instances where we can use it to obtain exact models with curves of special interest due to their properties."
   ]
  },
  {
   "cell_type": "markdown",
   "metadata": {},
   "source": [
    "## 4 - Elliptic curves with complex multiplication"
   ]
  },
  {
   "cell_type": "markdown",
   "metadata": {},
   "source": [
    "Let $E$ be an elliptic curve over $\\mathbb{C}$, and $\\Lambda = \\langle\\tau, 1\\rangle\\subset \\mathbb{C}$ be a lattice such that $E(\\mathbb{C}) \\simeq \\mathbb{C}/\\Lambda$. Then we write\n",
    "$$\\operatorname{End}(E) \\simeq \\{\\alpha\\in\\mathbb{C} : \\alpha\\Lambda \\subseteq \\Lambda\\}.$$\n",
    "\n",
    "This ring is independent of the choice of $\\Lambda$, and one of two things can happen:\n",
    "\n",
    "1. $\\operatorname{End}(E) = \\mathbb{Z}$\n",
    "\n",
    "2. The field $\\mathbb{Q}(\\tau)$ is an imaginary quadratic extension of $\\mathbb{Q}$, and $\\operatorname{End}(E)$ is isomorphic to an order in $\\mathbb{Q}(\\tau)$.\n",
    "\n",
    "In the second case, we say that $E$ has *complex multiplication*."
   ]
  },
  {
   "cell_type": "markdown",
   "metadata": {},
   "source": [
    "**Exercise 6** Construct the elliptic curve $y^2 = x^3 - 2835x - 71442$, compute its period $\\tau$ and its $j$-invariant, and check that it has complex multiplication (Hint: just ask sage). Do you observe anything interesting of the $j$-invariant?"
   ]
  },
  {
   "cell_type": "code",
   "execution_count": null,
   "metadata": {},
   "outputs": [],
   "source": []
  },
  {
   "cell_type": "markdown",
   "metadata": {},
   "source": [
    "A point $\\tau\\in\\mathbb{H}$ such that $E(\\tau)$ has complex multiplication is called *CM-point*. \n",
    "\n",
    "**Proposition** If $\\tau_0\\in\\mathbb{H}$ is a CM point, then $j(\\tau_0)$ is an algebraic integer.\n",
    "\n",
    "This means that with enough precision on our computations, we can identify the exact $j$-invariant and recover the model of the elliptic curve."
   ]
  },
  {
   "cell_type": "markdown",
   "metadata": {},
   "source": [
    "**Exercise 7** Repeat Exercise 5 using the elliptic curve in Exercise 6."
   ]
  },
  {
   "cell_type": "code",
   "execution_count": null,
   "metadata": {},
   "outputs": [],
   "source": []
  },
  {
   "cell_type": "markdown",
   "metadata": {},
   "source": [
    "Hint: You can use the function `EllipticCurve_from_j` to obtain the elliptic curve with the \\\\(j\\\\)-invariant that you obtain, and check if an elliptic curve \\\\(E\\\\) has complex multiplication as you did above."
   ]
  },
  {
   "cell_type": "markdown",
   "metadata": {},
   "source": [
    "So now we should be able to construct elliptic curves with the endomorphism ring that we choose. To do so, we can use the following table:\n",
    "\n",
    "| *d* mod 8 | $\\mathbf{\\tau_d}$ |\n",
    "| :---: | :---: |\n",
    "| 1, 2, 5 | $\\sqrt{-d}$ |\n",
    "| 3 | $\\frac{3+\\sqrt{-d}}{2}$ |\n",
    "| 6 | $3 + \\sqrt{-d}$ |\n",
    "| 7 | $\\frac{-3+\\sqrt{-d}}{2}$ |"
   ]
  },
  {
   "cell_type": "markdown",
   "metadata": {},
   "source": [
    "**Exercise 8** Choose a quadratic imaginary extension $K$ with class number 1. Taking $\\tau$ as defined above, find the elliptic curve with endomorphism ring $\\mathcal{O}_K$. Check that the curve you obtained has complex multiplication."
   ]
  },
  {
   "cell_type": "code",
   "execution_count": null,
   "metadata": {},
   "outputs": [],
   "source": []
  },
  {
   "cell_type": "markdown",
   "metadata": {},
   "source": [
    "**Exercise 9** Repeat Exercise 8 with a quadratic imaginary extension of higher class number. Did anything change?"
   ]
  },
  {
   "cell_type": "code",
   "execution_count": null,
   "metadata": {},
   "outputs": [],
   "source": []
  },
  {
   "cell_type": "markdown",
   "metadata": {},
   "source": [
    "Check the method `algdep` to try and obtain an exact model of the curve."
   ]
  },
  {
   "cell_type": "code",
   "execution_count": null,
   "metadata": {},
   "outputs": [],
   "source": []
  }
 ],
 "metadata": {
  "kernelspec": {
   "display_name": "SageMath 9.3.beta7",
   "language": "sage",
   "name": "sagemath"
  },
  "language_info": {
   "codemirror_mode": {
    "name": "ipython",
    "version": 3
   },
   "file_extension": ".py",
   "mimetype": "text/x-python",
   "name": "python",
   "nbconvert_exporter": "python",
   "pygments_lexer": "ipython3",
   "version": "3.9.1"
  }
 },
 "nbformat": 4,
 "nbformat_minor": 4
}

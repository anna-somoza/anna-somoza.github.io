{
 "cells": [
  {
   "cell_type": "markdown",
   "metadata": {},
   "source": [
    "<h1 class=\"title\">Tutorial: Using the Sage notebook, navigating the help system, first exercises</h1>\n",
    "\n",
    "<!-- escape-backslashes -->\n",
    "<p>This worksheet is based on William Stein's <a class=\"reference external\" href=\"http://modular.math.washington.edu/talks/20090701-sage_graphics_tutorial/JPL09___intro_to_sage.sws\">JPL09__intro_to_sage.sws</a>\n",
    "worksheet and the <a class=\"reference external\" href=\"http://wiki.sagemath.org/days20.5\">Sage days 20.5_demo</a>\n",
    "    worksheet and aims to be an interactive introduction to Sage through exercises.</p>\n",
    "<p>You will learn how to use the notebook and call the help.</p>"
   ]
  },
  {
   "cell_type": "markdown",
   "metadata": {},
   "source": [
    "<h2>Entering, Editing and Evaluating Input</h2>\n",
    "<p>To <em>evaluate code</em> in the Sage Notebook, type the code into an input cell and\n",
    "press <tt class=\"docutils literal\"><span class=\"pre\">shift-enter</span></tt> or click the <tt class=\"docutils literal\">evaluate</tt> link. Try it now with a simple\n",
    "expression (e.g.,  $2 + 3$). The first time you evaluate a cell takes longer\n",
    "than subsequent times since a new Sage process is started:</p>"
   ]
  },
  {
   "cell_type": "code",
   "execution_count": null,
   "metadata": {},
   "outputs": [],
   "source": [
    "2 + 3"
   ]
  },
  {
   "cell_type": "markdown",
   "metadata": {},
   "source": [
    "<!-- end of output -->\n",
    "<p>Create <em>new input cells</em> by clicking blue line that appears between cells when\n",
    "you move your mouse around. Try it now:</p>"
   ]
  },
  {
   "cell_type": "code",
   "execution_count": null,
   "metadata": {},
   "outputs": [],
   "source": [
    "1 + 1"
   ]
  },
  {
   "cell_type": "markdown",
   "metadata": {},
   "source": [
    "<p>You can <em>go back</em> and edit any cell by clicking in it (or using the\n",
    "keyboard to move up or down). Go back and change your 2+2 above to 3 +\n",
    "3 and re-evaluate it.</p>"
   ]
  },
  {
   "cell_type": "markdown",
   "metadata": {},
   "source": [
    "<p>\n",
    "    You can also <em>edit this text</em> right here by double clicking on it.\n",
    "    You will be able to edit the html code directly.\n",
    "    You can even put embedded mathematics like this $\\sin(x) - y^3$ just like with LaTeX.\n",
    "</p>"
   ]
  },
  {
   "cell_type": "markdown",
   "metadata": {},
   "source": [
    "<h1>Help systems</h1>\n",
    "<p>There are various ways of getting help in Sage.</p>\n",
    "<ul class=\"simple\">\n",
    "<li>navigate through the documentation (there is a link <tt class=\"docutils literal\">Help</tt> at the top right\n",
    "of the worksheet),</li>\n",
    "<li><tt class=\"docutils literal\">tab</tt> completion,</li>\n",
    "<li>contextual help.</li>\n",
    "</ul>\n",
    "<p>We detail in what follows the two last methods through examples.</p>\n",
    "\n",
    "\n",
    "<h1>Completion and contextual documentation</h1>\n",
    "<p>Start typing something and press the <tt class=\"docutils literal\">tab</tt> key. The interface tries to\n",
    "complete it with a command name. If there is more than one completion, then they\n",
    "are all presented to you. Remember that Sage is case sensitive, e.g. it\n",
    "differentiates lower case from lower case. Hence the <tt class=\"docutils literal\">tab</tt> completion of\n",
    "<tt class=\"docutils literal\">Klein</tt> won't show you the <tt class=\"docutils literal\">KleinFourGroup</tt> command that build the group\n",
    "$\\ZZ/2 \\times \\ZZ/2$ as a permutation group. Try it on the next cells</p>"
   ]
  },
  {
   "cell_type": "code",
   "execution_count": null,
   "metadata": {},
   "outputs": [],
   "source": [
    "Klein"
   ]
  },
  {
   "cell_type": "markdown",
   "metadata": {},
   "source": [
    "<p>To see documentation and examples for a command, type a question mark <tt class=\"docutils literal\">?</tt> at\n",
    "the end of the command name and press the <tt class=\"docutils literal\">Enter</tt> key as</p>"
   ]
  },
  {
   "cell_type": "code",
   "execution_count": null,
   "metadata": {},
   "outputs": [],
   "source": [
    "KleinFourGroup?"
   ]
  },
  {
   "cell_type": "code",
   "execution_count": null,
   "metadata": {},
   "outputs": [],
   "source": [
    "# edit here"
   ]
  },
  {
   "cell_type": "markdown",
   "metadata": {},
   "source": [
    "<p><em>Exercise A:</em> What is the largest prime factor of $600851475143$?</p>"
   ]
  },
  {
   "cell_type": "code",
   "execution_count": null,
   "metadata": {},
   "outputs": [],
   "source": [
    "factor?"
   ]
  },
  {
   "cell_type": "code",
   "execution_count": null,
   "metadata": {},
   "outputs": [],
   "source": [
    "# edit here"
   ]
  },
  {
   "cell_type": "markdown",
   "metadata": {},
   "source": [
    "<p>In the above exercise we do not store any mathematical data for later use.\n",
    "This can be done in Sage with the <tt class=\"docutils literal\">=</tt> symbol as in:</p>"
   ]
  },
  {
   "cell_type": "code",
   "execution_count": null,
   "metadata": {},
   "outputs": [],
   "source": [
    "a = 3\n",
    "b = 2\n",
    "print a+b"
   ]
  },
  {
   "cell_type": "markdown",
   "metadata": {},
   "source": [
    "<p>This can be understood as Sage evaluating the expression to the right of the\n",
    "<tt class=\"docutils literal\">=</tt> sign and creating the appropriate object, and then associating that\n",
    "object with a label, given by the right hand side. Multiple assignments can be\n",
    "done simultaneously:</p>"
   ]
  },
  {
   "cell_type": "code",
   "execution_count": null,
   "metadata": {},
   "outputs": [],
   "source": [
    "a,b = 2,3\n",
    "print a,b"
   ]
  },
  {
   "cell_type": "markdown",
   "metadata": {},
   "source": [
    "<p>This allows us to swap variables directly:</p>"
   ]
  },
  {
   "cell_type": "code",
   "execution_count": null,
   "metadata": {},
   "outputs": [],
   "source": [
    "a,b = 2,3\n",
    "a,b = b,a\n",
    "print a,b"
   ]
  },
  {
   "cell_type": "markdown",
   "metadata": {},
   "source": [
    "<p>Note that when we use the word <em>variable</em> in the computer-science sense we\n",
    "mean &quot;a label associated to some data stored by Sage&quot;.  Once an object is\n",
    "created, some <em>methods</em> apply to it. This means <em>functions</em> but instead of\n",
    "writing <strong>f(my_object)</strong> you write <strong>my_object.f()</strong>.:</p>"
   ]
  },
  {
   "cell_type": "code",
   "execution_count": null,
   "metadata": {},
   "outputs": [],
   "source": [
    "p = 17\n",
    "p.is_prime()"
   ]
  },
  {
   "cell_type": "markdown",
   "metadata": {},
   "source": [
    "<p>To know all methods of an object you can still use tab-completion. Write the\n",
    "name of the object followed by a dot and then press tab.:</p>\n",
    "<pre class=\"literal-block\">\n",
    "a.&lt;tab&gt;\n",
    "</pre>"
   ]
  },
  {
   "cell_type": "code",
   "execution_count": null,
   "metadata": {},
   "outputs": [],
   "source": [
    "# edit here"
   ]
  },
  {
   "cell_type": "code",
   "execution_count": null,
   "metadata": {},
   "outputs": [],
   "source": [
    "# edit here"
   ]
  },
  {
   "cell_type": "markdown",
   "metadata": {},
   "source": [
    "<p><em>Exercise B:</em> Create the <tt class=\"docutils literal\">Permutation</tt> 51324 and assign it to the variable <tt class=\"docutils literal\">p</tt>.</p>"
   ]
  },
  {
   "cell_type": "code",
   "execution_count": 2,
   "metadata": {},
   "outputs": [],
   "source": [
    "Permutation?"
   ]
  },
  {
   "cell_type": "code",
   "execution_count": null,
   "metadata": {},
   "outputs": [],
   "source": [
    "# edit here"
   ]
  },
  {
   "cell_type": "markdown",
   "metadata": {},
   "source": [
    "<p>What is the <tt class=\"docutils literal\">inverse</tt> of <tt class=\"docutils literal\">p</tt> ?</p>"
   ]
  },
  {
   "cell_type": "code",
   "execution_count": null,
   "metadata": {},
   "outputs": [],
   "source": []
  },
  {
   "cell_type": "code",
   "execution_count": null,
   "metadata": {},
   "outputs": [],
   "source": [
    "# edit here"
   ]
  },
  {
   "cell_type": "markdown",
   "metadata": {},
   "source": [
    "<p>Does <tt class=\"docutils literal\">p</tt> have the <tt class=\"docutils literal\">pattern</tt> 123 ? What about 1234 ? And 312 ? (even if you don't\n",
    "know what a pattern is, you should be able to find a command that does this).</p>"
   ]
  },
  {
   "cell_type": "code",
   "execution_count": null,
   "metadata": {},
   "outputs": [],
   "source": []
  },
  {
   "cell_type": "code",
   "execution_count": null,
   "metadata": {},
   "outputs": [],
   "source": [
    "# edit here"
   ]
  },
  {
   "cell_type": "markdown",
   "metadata": {},
   "source": [
    "<h1>Some linear algebra</h1>\n",
    "<p><em>Exercise C:</em> Use the <tt class=\"docutils literal\">matrix</tt> command to create the following matrix.</p>\n",
    "\n",
    "$$ M = \\begin{pmatrix}\n",
    "    10 & 4 & 1 & 1 \\\\\n",
    "    4 & 6 & 5 & 1 \\\\\n",
    "    1 & 5 & 6 & 4 \\\\\n",
    "    1 & 1 & 4 & 10\n",
    "    \\end{pmatrix}$$"
   ]
  },
  {
   "cell_type": "code",
   "execution_count": null,
   "metadata": {},
   "outputs": [],
   "source": [
    "matrix?"
   ]
  },
  {
   "cell_type": "code",
   "execution_count": null,
   "metadata": {},
   "outputs": [],
   "source": [
    "# edit here"
   ]
  },
  {
   "cell_type": "markdown",
   "metadata": {},
   "source": [
    "<p>Then using methods of the matrix:</p>\n",
    "<ol class=\"arabic simple\">\n",
    "<li>Find the determinant of the matrix.</li>\n",
    "<li>Find the eigenvalues of the matrix.</li>\n",
    "</ol>"
   ]
  },
  {
   "cell_type": "code",
   "execution_count": null,
   "metadata": {},
   "outputs": [],
   "source": [
    "# edit here"
   ]
  },
  {
   "cell_type": "code",
   "execution_count": null,
   "metadata": {},
   "outputs": [],
   "source": [
    "# edit here"
   ]
  },
  {
   "cell_type": "markdown",
   "metadata": {},
   "source": [
    "<p>Now you know how to access the different methods of matrices:</p>\n",
    "<ol class=\"arabic simple\" start=\"6\">\n",
    "<li>Create the vector $v = (1,-1,-1,1)$.</li>\n",
    "<li>Compute the products: $M*v$ and $v*M$.</li>\n",
    "</ol>"
   ]
  },
  {
   "cell_type": "code",
   "execution_count": null,
   "metadata": {},
   "outputs": [],
   "source": [
    "vector?"
   ]
  },
  {
   "cell_type": "code",
   "execution_count": null,
   "metadata": {},
   "outputs": [],
   "source": [
    "# edit here"
   ]
  },
  {
   "cell_type": "markdown",
   "metadata": {},
   "source": [
    "**Note**\n",
    "<p class=\"last\">Vectors in Sage are row vectors. A method such as <tt class=\"docutils literal\">eigenspaces</tt> might not\n",
    "return what you expect, so it is best to specify <tt class=\"docutils literal\">eigenspaces_left</tt> or\n",
    "<tt class=\"docutils literal\">eigenspaces_right</tt> instead. Same thing for kernel (<tt class=\"docutils literal\">left_kernel</tt> or\n",
    "<tt class=\"docutils literal\">right_kernel</tt>), and so on.</p>\n",
    "\n",
    "## More resources\n",
    "For more details on the programming side of things, check the (https://doc.sagemath.org/html/en/thematic_tutorials/tutorial-programming-python.html)[Programming in Python and Sagemath] page of the Sagemath documentation."
   ]
  }
 ],
 "metadata": {
  "kernelspec": {
   "display_name": "SageMath 9.1.rc2",
   "language": "sage",
   "name": "sagemath"
  },
  "language_info": {
   "codemirror_mode": {
    "name": "ipython",
    "version": 3
   },
   "file_extension": ".py",
   "mimetype": "text/x-python",
   "name": "python",
   "nbconvert_exporter": "python",
   "pygments_lexer": "ipython3",
   "version": "3.7.3"
  }
 },
 "nbformat": 4,
 "nbformat_minor": 1
}

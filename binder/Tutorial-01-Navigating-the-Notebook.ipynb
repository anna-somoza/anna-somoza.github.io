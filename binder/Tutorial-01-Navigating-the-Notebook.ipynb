{
 "cells": [
  {
   "cell_type": "markdown",
   "metadata": {
    "collapsed": false
   },
   "source": [
    "%html\n",
    "<h1 class=\"title\">Tutorial: Using the Sage notebook, navigating the help system, first exercises</h1>\n",
    "\n",
    "<!-- escape-backslashes -->\n",
    "<p>This worksheet is based on William Stein's <a class=\"reference external\" href=\"http://modular.math.washington.edu/talks/20090701-sage_graphics_tutorial/JPL09___intro_to_sage.sws\">JPL09__intro_to_sage.sws</a>\n",
    "worksheet and the <a class=\"reference external\" href=\"http://wiki.sagemath.org/days20.5\">Sage days 20.5_demo</a>\n",
    "    worksheet and aims to be an interactive introduction to Sage through exercises.</p>\n",
    "<p>You will learn how to use the notebook and call the help.</p>"
   ]
  },
  {
   "cell_type": "markdown",
   "metadata": {
    "collapsed": false
   },
   "source": [
    "%html\n",
    "<h2>Entering, Editing and Evaluating Input</h2>\n",
    "<p>To <em>evaluate code</em> in the Sage Notebook, type the code into an input cell and\n",
    "press <tt class=\"docutils literal\"><span class=\"pre\">shift-enter</span></tt> or click the <tt class=\"docutils literal\">evaluate</tt> link. Try it now with a simple\n",
    "expression (e.g.,  $2 + 3$). The first time you evaluate a cell takes longer\n",
    "than subsequent times since a new Sage process is started:</p>"
   ]
  },
  {
   "cell_type": "code",
   "execution_count": 0,
   "metadata": {
    "collapsed": false
   },
   "outputs": [
   ],
   "source": [
    "2 + 3"
   ]
  },
  {
   "cell_type": "markdown",
   "metadata": {
    "collapsed": false
   },
   "source": [
    "%html\n",
    "<!-- end of output -->\n",
    "<p>Create <em>new input cells</em> by clicking blue line that appears between cells when\n",
    "you move your mouse around. Try it now:</p>"
   ]
  },
  {
   "cell_type": "code",
   "execution_count": 0,
   "metadata": {
    "collapsed": false
   },
   "outputs": [
   ],
   "source": [
    "1 + 1"
   ]
  },
  {
   "cell_type": "markdown",
   "metadata": {
    "collapsed": false
   },
   "source": [
    "%html\n",
    "<p>You can <em>go back</em> and edit any cell by clicking in it (or using the\n",
    "keyboard to move up or down). Go back and change your 2+2 above to 3 +\n",
    "3 and re-evaluate it.</p>"
   ]
  },
  {
   "cell_type": "markdown",
   "metadata": {
    "collapsed": false
   },
   "source": [
    "%html\n",
    "<p>\n",
    "    You can also <em>edit this text</em> right here by double clicking on it.\n",
    "    You will be able to edit the html code directly.\n",
    "    You can even put embedded mathematics like this $\\sin(x) - y^3$ just like with LaTeX.\n",
    "</p>"
   ]
  },
  {
   "cell_type": "markdown",
   "metadata": {
    "collapsed": false
   },
   "source": [
    "%html\n",
    "<h1>Help systems</h1>\n",
    "<p>There are various ways of getting help in Sage.</p>\n",
    "<ul class=\"simple\">\n",
    "<li>navigate through the documentation (there is a link <tt class=\"docutils literal\">Help</tt> at the top right\n",
    "of the worksheet),</li>\n",
    "<li><tt class=\"docutils literal\">tab</tt> completion,</li>\n",
    "<li>contextual help.</li>\n",
    "</ul>\n",
    "<p>We detail in what follows the two last methods through examples.</p>\n",
    "\n",
    "\n",
    "<h1>Completion and contextual documentation</h1>\n",
    "<p>Start typing something and press the <tt class=\"docutils literal\">tab</tt> key. The interface tries to\n",
    "complete it with a command name. If there is more than one completion, then they\n",
    "are all presented to you. Remember that Sage is case sensitive, e.g. it\n",
    "differentiates lower case from lower case. Hence the <tt class=\"docutils literal\">tab</tt> completion of\n",
    "<tt class=\"docutils literal\">klein</tt> won't show you the <tt class=\"docutils literal\">KleinFourGroup</tt> command that build the group\n",
    "$\\ZZ/2 \\times \\ZZ/2$ as a permutation group. Try it on the next cells</p>"
   ]
  },
  {
   "cell_type": "code",
   "execution_count": 0,
   "metadata": {
    "collapsed": false
   },
   "outputs": [
   ],
   "source": [
    "klein"
   ]
  },
  {
   "cell_type": "code",
   "execution_count": 0,
   "metadata": {
    "collapsed": false
   },
   "outputs": [
   ],
   "source": [
    "Klein"
   ]
  },
  {
   "cell_type": "markdown",
   "metadata": {
    "collapsed": false
   },
   "source": [
    "%html\n",
    "<p>To see documentation and examples for a command, type a question mark <tt class=\"docutils literal\">?</tt> at\n",
    "the end of the command name and press the <tt class=\"docutils literal\">tab</tt> key as</p>"
   ]
  },
  {
   "cell_type": "code",
   "execution_count": 0,
   "metadata": {
    "collapsed": false
   },
   "outputs": [
   ],
   "source": [
    "KleinFourGroup?&lt;tab&gt;"
   ]
  },
  {
   "cell_type": "code",
   "execution_count": 0,
   "metadata": {
    "collapsed": false
   },
   "outputs": [
   ],
   "source": [
    "# edit here"
   ]
  },
  {
   "cell_type": "markdown",
   "metadata": {
    "collapsed": false
   },
   "source": [
    "%html\n",
    "<p><em>Exercise A:</em> What is the largest prime factor of $600851475143$?</p>"
   ]
  },
  {
   "cell_type": "code",
   "execution_count": 0,
   "metadata": {
    "collapsed": false
   },
   "outputs": [
   ],
   "source": [
    "factor?&lt;tab&gt;"
   ]
  },
  {
   "cell_type": "code",
   "execution_count": 0,
   "metadata": {
    "collapsed": false
   },
   "outputs": [
   ],
   "source": [
    "# edit here"
   ]
  },
  {
   "cell_type": "markdown",
   "metadata": {
    "collapsed": false
   },
   "source": [
    "%html\n",
    "<p>In the above exercise we do not store any mathematical data for later use.\n",
    "This can be done in Sage with the <tt class=\"docutils literal\">=</tt> symbol as in:</p>"
   ]
  },
  {
   "cell_type": "code",
   "execution_count": 0,
   "metadata": {
    "collapsed": false
   },
   "outputs": [
   ],
   "source": [
    "a = 3\n",
    "b = 2\n",
    "print a+b"
   ]
  },
  {
   "cell_type": "markdown",
   "metadata": {
    "collapsed": false
   },
   "source": [
    "%html\n",
    "<p>This can be understood as Sage evaluating the expression to the right of the\n",
    "<tt class=\"docutils literal\">=</tt> sign and creating the appropriate object, and then associating that\n",
    "object with a label, given by the right hand side. Multiple assignments can be\n",
    "done simultaneously:</p>"
   ]
  },
  {
   "cell_type": "code",
   "execution_count": 0,
   "metadata": {
    "collapsed": false
   },
   "outputs": [
   ],
   "source": [
    "a,b = 2,3\n",
    "print a,b"
   ]
  },
  {
   "cell_type": "markdown",
   "metadata": {
    "collapsed": false
   },
   "source": [
    "%html\n",
    "<p>This allows us to swap variables directly:</p>"
   ]
  },
  {
   "cell_type": "code",
   "execution_count": 0,
   "metadata": {
    "collapsed": false
   },
   "outputs": [
   ],
   "source": [
    "a,b = 2,3\n",
    "a,b = b,a\n",
    "print a,b"
   ]
  },
  {
   "cell_type": "markdown",
   "metadata": {
    "collapsed": false
   },
   "source": [
    "%html\n",
    "<p>Note that when we use the word <em>variable</em> in the computer-science sense we\n",
    "mean &quot;a label associated to some data stored by Sage&quot;.  Once an object is\n",
    "created, some <em>methods</em> apply to it. This means <em>functions</em> but instead of\n",
    "writing <strong>f(my_object)</strong> you write <strong>my_object.f()</strong>.:</p>"
   ]
  },
  {
   "cell_type": "code",
   "execution_count": 0,
   "metadata": {
    "collapsed": false
   },
   "outputs": [
   ],
   "source": [
    "p = 17\n",
    "p.is_prime()"
   ]
  },
  {
   "cell_type": "markdown",
   "metadata": {
    "collapsed": false
   },
   "source": [
    "%html\n",
    "<p>To know all methods of an object you can still use tab-completion. Write the\n",
    "name of the object followed by a dot and then press tab.:</p>\n",
    "<pre class=\"literal-block\">\n",
    "a.&lt;tab&gt;\n",
    "\n",
    "</pre>"
   ]
  },
  {
   "cell_type": "code",
   "execution_count": 0,
   "metadata": {
    "collapsed": false
   },
   "outputs": [
   ],
   "source": [
    "# edit here"
   ]
  },
  {
   "cell_type": "code",
   "execution_count": 0,
   "metadata": {
    "collapsed": false
   },
   "outputs": [
   ],
   "source": [
    "# edit here"
   ]
  },
  {
   "cell_type": "markdown",
   "metadata": {
    "collapsed": false
   },
   "source": [
    "%html\n",
    "<p><em>Exercise B:</em> Create the <tt class=\"docutils literal\">Permutation</tt> 51324 and assign it to the variable <tt class=\"docutils literal\">p</tt>.</p>"
   ]
  },
  {
   "cell_type": "code",
   "execution_count": 0,
   "metadata": {
    "collapsed": false
   },
   "outputs": [
   ],
   "source": [
    "Permutation?<TAB>"
   ]
  },
  {
   "cell_type": "code",
   "execution_count": 0,
   "metadata": {
    "collapsed": false
   },
   "outputs": [
   ],
   "source": [
    "# edit here"
   ]
  },
  {
   "cell_type": "markdown",
   "metadata": {
    "collapsed": false
   },
   "source": [
    "%html\n",
    "<p>What is the <tt class=\"docutils literal\">inverse</tt> of <tt class=\"docutils literal\">p</tt> ?</p>"
   ]
  },
  {
   "cell_type": "code",
   "execution_count": 0,
   "metadata": {
    "collapsed": false
   },
   "outputs": [
   ],
   "source": [
   ]
  },
  {
   "cell_type": "code",
   "execution_count": 0,
   "metadata": {
    "collapsed": false
   },
   "outputs": [
   ],
   "source": [
    "# edit here"
   ]
  },
  {
   "cell_type": "markdown",
   "metadata": {
    "collapsed": false
   },
   "source": [
    "%html\n",
    "<p>Does <tt class=\"docutils literal\">p</tt> have the <tt class=\"docutils literal\">pattern</tt> 123 ? What about 1234 ? And 312 ? (even if you don't\n",
    "know what a pattern is, you should be able to find a command that does this).</p>"
   ]
  },
  {
   "cell_type": "code",
   "execution_count": 0,
   "metadata": {
    "collapsed": false
   },
   "outputs": [
   ],
   "source": [
   ]
  },
  {
   "cell_type": "code",
   "execution_count": 3,
   "metadata": {
    "collapsed": false
   },
   "outputs": [
   ],
   "source": [
    "# edit here"
   ]
  },
  {
   "cell_type": "markdown",
   "metadata": {
    "collapsed": false
   },
   "source": [
    "%html\n",
    "<h1>Some linear algebra</h1>\n",
    "<p><em>Exercise C:</em> Use the <tt class=\"docutils literal\">matrix</tt> command to create the following matrix.</p>\n",
    "<pre class=\"literal-block\">\\[\n",
    "    M = \\left(\\begin{array}{rrrr}&nbsp;\n",
    "    10 &amp; 4 &amp; 1 &amp; 1 \\\\\n",
    "    4 &amp; 6 &amp; 5 &amp; 1 \\\\\n",
    "    1 &amp; 5 &amp; 6 &amp; 4 \\\\\n",
    "    1 &amp; 1 &amp; 4 &amp; 10\n",
    "    \\end{array}&nbsp;\\right)\n",
    "\\]\n",
    "\n",
    "\n",
    "</pre>"
   ]
  },
  {
   "cell_type": "markdown",
   "metadata": {
    "collapsed": false
   },
   "source": [
    "matrix?&lt;tab&gt;"
   ]
  },
  {
   "cell_type": "code",
   "execution_count": 0,
   "metadata": {
    "collapsed": false
   },
   "outputs": [
   ],
   "source": [
    "# edit here"
   ]
  },
  {
   "cell_type": "markdown",
   "metadata": {
    "collapsed": false
   },
   "source": [
    "%html\n",
    "<p>Then using methods of the matrix:</p>\n",
    "<ol class=\"arabic simple\">\n",
    "<li>Find the determinant of the matrix.</li>\n",
    "<li>Find the echelon form of the matrix.</li>\n",
    "<li>Find the eigenvalues of the matrix.</li>\n",
    "<li>Find the kernel of the matrix.</li>\n",
    "<li>Find the LLL decomposition of the matrix.</li>\n",
    "</ol>"
   ]
  },
  {
   "cell_type": "code",
   "execution_count": 4,
   "metadata": {
    "collapsed": false
   },
   "outputs": [
   ],
   "source": [
    "# edit here"
   ]
  },
  {
   "cell_type": "code",
   "execution_count": 0,
   "metadata": {
    "collapsed": false
   },
   "outputs": [
   ],
   "source": [
    "# edit here"
   ]
  },
  {
   "cell_type": "markdown",
   "metadata": {
    "collapsed": false
   },
   "source": [
    "%html\n",
    "<p>Now you know how to access the different methods of matrices:</p>\n",
    "<ol class=\"arabic simple\" start=\"6\">\n",
    "<li>Create the vector $v = (1,-1,-1,1)$.</li>\n",
    "<li>Compute the products: $M*v$ and $v*M$.</li>\n",
    "</ol>"
   ]
  },
  {
   "cell_type": "markdown",
   "metadata": {
    "collapsed": false
   },
   "source": [
    "vector?&lt;tab&gt;"
   ]
  },
  {
   "cell_type": "code",
   "execution_count": 0,
   "metadata": {
    "collapsed": false
   },
   "outputs": [
   ],
   "source": [
    "# edit here"
   ]
  },
  {
   "cell_type": "markdown",
   "metadata": {
    "collapsed": false
   },
   "source": [
    "%html\n",
    "<p class=\"first admonition-title\">Note</p>\n",
    "<p class=\"last\">Vectors in Sage are row vectors. A method such as <tt class=\"docutils literal\">eigenspaces</tt> might not\n",
    "return what you expect, so it is best to specify <tt class=\"docutils literal\">eigenspaces_left</tt> or\n",
    "<tt class=\"docutils literal\">eigenspaces_right</tt> instead. Same thing for kernel (<tt class=\"docutils literal\">left_kernel</tt> or\n",
    "<tt class=\"docutils literal\">right_kernel</tt>), and so on.</p>\n",
    "\n",
    "\n",
    "\n",
    "<h1>Some Plotting</h1>\n",
    "<p>The <tt class=\"docutils literal\">plot</tt> command allows you to draw plots of functions. Recall that you can\n",
    "access the documentation by pressing the <tt class=\"docutils literal\">tab</tt> key after writing <tt class=\"docutils literal\">plot?</tt> in\n",
    "a cell.:</p>"
   ]
  },
  {
   "cell_type": "markdown",
   "metadata": {
    "collapsed": false
   },
   "source": [
    "plot?&lt;tab&gt;"
   ]
  },
  {
   "cell_type": "code",
   "execution_count": 0,
   "metadata": {
    "collapsed": false
   },
   "outputs": [
   ],
   "source": [
    "# edit here"
   ]
  },
  {
   "cell_type": "markdown",
   "metadata": {
    "collapsed": false
   },
   "source": [
    "%html\n",
    "<p>Here is a simple example:</p>"
   ]
  },
  {
   "cell_type": "code",
   "execution_count": 0,
   "metadata": {
    "collapsed": false
   },
   "outputs": [
   ],
   "source": [
    "var('x')   # make sure x is a symbolic variable\n",
    "plot(sin(x^2), (x,0,10))"
   ]
  },
  {
   "cell_type": "markdown",
   "metadata": {
    "collapsed": false
   },
   "source": [
    "%html\n",
    "<p>Here is a more complicated plot. Try to change every single input to the plot\n",
    "command in some way, evaluating to see what happens:</p>"
   ]
  },
  {
   "cell_type": "code",
   "execution_count": 0,
   "metadata": {
    "collapsed": false
   },
   "outputs": [
   ],
   "source": [
    "P = plot(sin(x^2), (x,-2,2), rgbcolor=(0.8,0,0.2), thickness=3, linestyle='--', fill='axis')\n",
    "show(P, gridlines=True)"
   ]
  },
  {
   "cell_type": "markdown",
   "metadata": {
    "collapsed": false
   },
   "source": [
    "%html\n",
    "<p>Above we used the <tt class=\"docutils literal\">show</tt> command to show a plot after it was created. You can\n",
    "also use <tt class=\"docutils literal\">P.show</tt> instead:</p>"
   ]
  },
  {
   "cell_type": "code",
   "execution_count": 0,
   "metadata": {
    "collapsed": false
   },
   "outputs": [
   ],
   "source": [
    "P.show(gridlines=True)"
   ]
  },
  {
   "cell_type": "markdown",
   "metadata": {
    "collapsed": false
   },
   "source": [
    "%html\n",
    "<p>Try putting the cursor right after <tt class=\"docutils literal\">P.show(</tt> and pressing tab to get a list of\n",
    "the options for how you can change the values of the given inputs.:</p>"
   ]
  },
  {
   "cell_type": "code",
   "execution_count": 0,
   "metadata": {
    "collapsed": false
   },
   "outputs": [
   ],
   "source": [
    "P.show("
   ]
  },
  {
   "cell_type": "markdown",
   "metadata": {
    "collapsed": false
   },
   "source": [
    "%html\n",
    "<p>Plotting multiple functions at once is as easy as adding them together:</p>"
   ]
  },
  {
   "cell_type": "code",
   "execution_count": 0,
   "metadata": {
    "collapsed": false
   },
   "outputs": [
   ],
   "source": [
    "P1 = plot(sin(x), (x,0,2*pi))\n",
    "P2 = plot(cos(x), (x,0,2*pi), rgbcolor='red')\n",
    "P1 + P2"
   ]
  },
  {
   "cell_type": "markdown",
   "metadata": {
    "collapsed": false
   },
   "source": [
    "%html\n",
    "<h1>Symbolic Expressions</h1>\n",
    "<p>Here is an example of a symbolic function:</p>"
   ]
  },
  {
   "cell_type": "code",
   "execution_count": 0,
   "metadata": {
    "collapsed": false
   },
   "outputs": [
   ],
   "source": [
    "f(x) = x^4 - 8*x^2 - 3*x + 2\n",
    "f(x)"
   ]
  },
  {
   "cell_type": "code",
   "execution_count": 0,
   "metadata": {
    "collapsed": false
   },
   "outputs": [
   ],
   "source": [
    "f(-3)"
   ]
  },
  {
   "cell_type": "markdown",
   "metadata": {
    "collapsed": false
   },
   "source": [
    "%html\n",
    "<p>This is an example of a function in the <em>mathematical</em> variable $x$. When Sage\n",
    "starts, it defines the symbol $x$ to be a mathematical variable. If you want\n",
    "to use other symbols for variables, you must define them first.:</p>"
   ]
  },
  {
   "cell_type": "code",
   "execution_count": 0,
   "metadata": {
    "collapsed": false
   },
   "outputs": [
   ],
   "source": [
    "x^2"
   ]
  },
  {
   "cell_type": "code",
   "execution_count": 0,
   "metadata": {
    "collapsed": false
   },
   "outputs": [
   ],
   "source": [
    "u + v"
   ]
  },
  {
   "cell_type": "code",
   "execution_count": 0,
   "metadata": {
    "collapsed": false
   },
   "outputs": [
   ],
   "source": [
    "var('u v')\n",
    "u + v"
   ]
  },
  {
   "cell_type": "markdown",
   "metadata": {
    "collapsed": false
   },
   "source": [
    "%html\n",
    "<p>It is possible, though, to define symbolic functions without first defining\n",
    "the variables.:</p>"
   ]
  },
  {
   "cell_type": "code",
   "execution_count": 0,
   "metadata": {
    "collapsed": false
   },
   "outputs": [
   ],
   "source": [
    "f(w) = w^2\n",
    "f(3)"
   ]
  },
  {
   "cell_type": "markdown",
   "metadata": {
    "collapsed": false
   },
   "source": [
    "%html\n",
    "<p><em>Exercise D:</em> Define the symbolic function $f(x) = x \\sin(x^2)$. Plot $f$ on the\n",
    "domain $[-3,3]$ and colour it red. Use the <tt class=\"docutils literal\">find_root</tt> method to numerically\n",
    "approximate the root of $f$ on the interval $[1,2]$:</p>"
   ]
  },
  {
   "cell_type": "code",
   "execution_count": 5,
   "metadata": {
    "collapsed": false
   },
   "outputs": [
   ],
   "source": [
    "# edit here"
   ]
  },
  {
   "cell_type": "markdown",
   "metadata": {
    "collapsed": false
   },
   "source": [
    "%html\n",
    "<p>Compute the tangent line to $f$ at $x=1$:</p>"
   ]
  },
  {
   "cell_type": "code",
   "execution_count": 0,
   "metadata": {
    "collapsed": false
   },
   "outputs": [
   ],
   "source": [
    "# edit here"
   ]
  },
  {
   "cell_type": "markdown",
   "metadata": {
    "collapsed": false
   },
   "source": [
    "%html\n",
    "<p>Plot $f$ and the tangent line to $f$ at $x=1$ in one image:</p>"
   ]
  },
  {
   "cell_type": "code",
   "execution_count": 0,
   "metadata": {
    "collapsed": false
   },
   "outputs": [
   ],
   "source": [
    "# edit here"
   ]
  },
  {
   "cell_type": "markdown",
   "metadata": {
    "collapsed": false
   },
   "source": [
    "%html\n",
    "<p><em>Exercise E (Advanced):</em> Solve the following equation for $y$</p>\n",
    "<pre class=\"literal-block\"><span style=\"font-family: 'Times New Roman';\"><span style=\"white-space: normal;\">\\[&nbsp;</span></span>y = 1 + x y^2 \\]\n",
    "</pre>\n",
    "<p>There are two solutions, take the one for which $\\lim_{x\\to0}y(x) = 1$. (Don't forget to create the variables $x$ and $y$!).:</p>"
   ]
  },
  {
   "cell_type": "code",
   "execution_count": 0,
   "metadata": {
    "collapsed": false
   },
   "outputs": [
   ],
   "source": [
    "# edit here"
   ]
  },
  {
   "cell_type": "markdown",
   "metadata": {
    "collapsed": false
   },
   "source": [
    "%html\n",
    "<p>Expand $y$ as a truncated Taylor series around $0$ and containing $n=10$\n",
    "terms.</p>"
   ]
  },
  {
   "cell_type": "code",
   "execution_count": 0,
   "metadata": {
    "collapsed": false
   },
   "outputs": [
   ],
   "source": [
    "# edit here"
   ]
  },
  {
   "cell_type": "markdown",
   "metadata": {
    "collapsed": false
   },
   "source": [
    "%html\n",
    "<p>Do you recognize the coefficients of the Taylor series expansion? You might\n",
    "want to use the <a class=\"reference external\" href=\"http://oeis.org\">On-Line Encyclopedia of Integer Sequences</a>,\n",
    "or better yet, Sage's command <tt class=\"docutils literal\">sloane_find</tt> which queries the encyclopedia:</p>\n",
    "<pre class=\"literal-block\">\n",
    "sloane_find?&lt;tab&gt;\n",
    "\n",
    "</pre>"
   ]
  },
  {
   "cell_type": "code",
   "execution_count": 0,
   "metadata": {
    "collapsed": false
   },
   "outputs": [
   ],
   "source": [
    "# edit here"
   ]
  }
 ],
 "metadata": {
  "kernelspec": {
   "display_name": "SageMath (stable)",
   "language": "sagemath",
   "metadata": {
    "cocalc": {
     "description": "Open-source mathematical software system",
     "priority": 10,
     "url": "https://www.sagemath.org/"
    }
   },
   "name": "sagemath"
  },
  "language_info": {
   "codemirror_mode": {
    "name": "ipython",
    "version": 2
   },
   "file_extension": ".py",
   "mimetype": "text/x-python",
   "name": "python",
   "nbconvert_exporter": "python",
   "pygments_lexer": "ipython2",
   "version": "2.7.15"
  }
 },
 "nbformat": 4,
 "nbformat_minor": 0
}